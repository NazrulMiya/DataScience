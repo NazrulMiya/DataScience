{
 "cells": [
  {
   "cell_type": "markdown",
   "metadata": {},
   "source": [
    "### Game Description:\n",
    "A pole is attached by an un-actuated joint to a cart, which moves along a frictionless track. The system is controlled by applying a force of +1 or -1 to the cart. The pendulum starts upright, and the goal is to prevent it from falling over. A reward of +1 is provided for every timestep that the pole remains upright. The episode ends when the pole is more than 15 degrees from vertical, or the cart moves more than 2.4 units from the center.\n",
    "    \n",
    "Acions :  \n",
    "    0 - Push to the Left  \n",
    "    1 - Push to the Right  \n",
    "    \n",
    "States :  \n",
    "    0 - Cart Position (-2.4, +2.4)  \n",
    "    1 - cart Velocity  \n",
    "    2 - Pole Angle (-41.8d , + 41.8d)  \n",
    "    4 - Pole Velocity at Tip  \n",
    "    \n",
    "Termination State:  \n",
    "    Pole Angle is more than ±12°  \n",
    "    Cart Position is more than ±2.4 (center of the cart reaches the edge of the display)"
   ]
  },
  {
   "cell_type": "markdown",
   "metadata": {},
   "source": [
    "#### Deep Q Learning\n",
    "   DQL is a model free off policy reinforcement learning algorithm which can be used to solve any problem that follows markov decission process. \n",
    "    \n",
    "We must have known so far that in Q-Learning RL algorithm we create a Q-Table of Q values for each state action pair. And for each episode, each time step agent finds the next action for a state from the Q table. then we update the Q-Value in the Q-Table. This approach is good when environment has less number of states . In case of complex environment when it has many number of states and actions then periodically finding Q table and updating Q table for state action pair is computationaly expensive.\n",
    "    \n",
    "Deep Q Learning helps to resolve this problem of Q-Learning. Deep Q Learning combines the neural network with Q-Learning algorithm. Instead of having a big Q table , the DQL uses artificial neural network to predict the next action for a given state and also to find optimal Q value for state action pair. Three important concepts involved are -\n",
    "\n",
    "> **Experience Replay** : In Deep Q Learning, we need to define a memory buffer of capacity N to hold all previous experiences of agent. Suppose Agent take an action and performs it. It will receive reward , next state etc. We store this info as a tuple known as 'Experience' into memory buffer called 'Replay Memory'. Experinece is a tuple as (Current state, action, reward, next state). Neural network is trained on sample experiences taken from Replay memory.\n",
    "\n",
    "> **Policy Net** : It is a deep neural network which is used to predict the next action that agent can take from a specific state. This network is trained on experiences of agent randomly sampled from Replay Memory.\n",
    "\n",
    "> **Target Net** : It is a clone of Policy Net used to find max Q value for next states when an agent reached to next state taking action from current state. This network is not trained with experiences of agent. It is just used to predict Q Values for next state. After certain time steps the weights of this network is updated from the weights of policy network.\n",
    "    \n",
    "Lets write the steps involved in DQL,\n",
    "    \n",
    "1. Create Environment Object\n",
    "2. initialize all hyperparameters such as epsilon, gamma, number_of_episodes etc.\n",
    "3. Create Replay Memory of predefined capacity\n",
    "4. Build and Compile a Deep Neural Network Model - Policy Net\n",
    "5. Clone the Policy Net into neural Network 'Target Net'\n",
    "6. for each episode\n",
    "    1. initialize starting state\n",
    "    2. While not a terminate state\n",
    "        - Find Strategy (Exploration or Exploitation)\n",
    "        - Select Action through epsilon greedy strategy\n",
    "        - Perform Action\n",
    "        - Store an experience (state, action, reward, next_state) in replay memory\n",
    "        - Update state to next state\n",
    "        - After X time step Target Net weights to the weights of Policy Net\n",
    "    3. Train Policy Net\n",
    "        - Take random sample of experience of specific batch size ,from replay Memory\n",
    "        - Pass next state to terget net to predict Max Q Value\n",
    "        - Calculate Reward\n",
    "        - Update Target Q Values        \n",
    "        - train Policy Net with current state and Target Q value \n",
    "    \n",
    "    4. Update Epsilon"
   ]
  },
  {
   "cell_type": "code",
   "execution_count": 1,
   "metadata": {},
   "outputs": [],
   "source": [
    "# Importing Libraries\n",
    "import gym\n",
    "import numpy as np\n",
    "import random\n",
    "from collections import deque\n",
    "import pandas as pd\n",
    "import matplotlib.pyplot as plt"
   ]
  },
  {
   "cell_type": "code",
   "execution_count": 2,
   "metadata": {
    "scrolled": true
   },
   "outputs": [
    {
     "name": "stdout",
     "output_type": "stream",
     "text": [
      "Number of Possible Actions  2\n"
     ]
    }
   ],
   "source": [
    "env = gym.make('CartPole-v0')\n",
    "env.reset()\n",
    "print('Number of Possible Actions ', env.action_space.n)"
   ]
  },
  {
   "cell_type": "code",
   "execution_count": 3,
   "metadata": {},
   "outputs": [],
   "source": [
    "#Replay Memory\n",
    "replay_memory = deque(maxlen=20000)"
   ]
  },
  {
   "cell_type": "code",
   "execution_count": 4,
   "metadata": {},
   "outputs": [],
   "source": [
    "#DQN - Policy Network\n",
    "import tensorflow as tf\n",
    "policy_net = tf.keras.models.Sequential()\n",
    "policy_net.add(tf.keras.layers.Dense(24, input_shape=(4,), activation='relu'))\n",
    "policy_net.add(tf.keras.layers.Dense(24, activation='relu'))\n",
    "policy_net.add(tf.keras.layers.Dense(2, activation='linear'))\n",
    "policy_net.compile(loss='mse', optimizer='adam',metrics=['accuracy'])"
   ]
  },
  {
   "cell_type": "code",
   "execution_count": 5,
   "metadata": {},
   "outputs": [],
   "source": [
    "#DQN - Target Network\n",
    "target_net = tf.keras.models.clone_model(policy_net)\n",
    "target_net.set_weights(policy_net.get_weights())"
   ]
  },
  {
   "cell_type": "code",
   "execution_count": 6,
   "metadata": {},
   "outputs": [],
   "source": [
    "def train_dqn(replay_memory, batch_size):\n",
    "    \n",
    "    # Take Sample of Size=batch_size\n",
    "    if len(replay_memory) < batch_size:\n",
    "        return\n",
    "    \n",
    "    sample_experience = random.sample(replay_memory, batch_size)\n",
    "    \n",
    "    \n",
    "    # Current States\n",
    "    state_array = [exp[0] for exp in sample_experience]\n",
    "    state_array = np.concatenate(state_array,axis=0)\n",
    "    \n",
    "    # Rewards\n",
    "    rewards = [exp[2] for exp in sample_experience]\n",
    "    \n",
    "    # Next States\n",
    "    next_state_aray = [exp[3] for exp in sample_experience]\n",
    "    next_state_aray = np.concatenate(next_state_aray, axis=0)\n",
    "        \n",
    "    # Actions\n",
    "    actions = [exp[1] for exp in sample_experience]\n",
    "    action_array = np.array(actions)\n",
    "    \n",
    "    # Target Q-Value (Passing Next State to the Policy Network)\n",
    "    max_q_vals = [np.amax(target_net.predict(np.reshape(s,[1,4]))) for s in next_state_aray]\n",
    "    \n",
    "    target_q_vals = rewards + 0.99 * np.array(max_q_vals)\n",
    "    actual_q_vals = policy_net.predict(np.reshape(s,[1,4]) for s in state_array)\n",
    "    \n",
    "    for row,col in zip(range(len(action_array)),action_array):\n",
    "        actual_q_vals[row,col] = target_q_vals[row]\n",
    "    \n",
    "    # Fit the State and Actual Q Value (Target Q value) into the Model : Trainging\n",
    "    policy_net.fit(state_array, actual_q_vals, epochs=1, verbose=0)\n",
    "    "
   ]
  },
  {
   "cell_type": "code",
   "execution_count": null,
   "metadata": {},
   "outputs": [],
   "source": [
    "epsilon_ = 1\n",
    "results = []\n",
    "for episode in range(1000):\n",
    "    state = env.reset()\n",
    "    state = np.reshape(state, [1,4])\n",
    "    done = False\n",
    "    total_reward = 0\n",
    "    time_step = 0\n",
    "    exp_or_use = ''\n",
    "    while not done:\n",
    "        \n",
    "        env.render()\n",
    "        #Exploration-Exploitation Trade Off\n",
    "        #Finding Action\n",
    "        exp_th = random.uniform(0,1)\n",
    "        if exp_th <= epsilon_:\n",
    "            exp_or_use = 'Exploring'\n",
    "            action = env.action_space.sample()\n",
    "        else:\n",
    "            exp_or_use = 'Exploiting'\n",
    "            action = np.argmax(policy_net.predict(state))\n",
    "            \n",
    "        #Taking Action\n",
    "        next_state, reward, done, info = env.step(action)\n",
    "        next_state = np.reshape(next_state, [1,4])\n",
    "        \n",
    "        #Store Experience -> Replay Memory\n",
    "        experience = (state, action, reward, next_state)\n",
    "        replay_memory.append(experience)\n",
    "        \n",
    "        state = next_state\n",
    "        total_reward += reward\n",
    "        time_step += 1\n",
    "\n",
    "        #After Evry 10 time Steps update target_net wights\n",
    "        if time_step > 15 and (time_step % 15 == 0):\n",
    "            target_net.set_weights(policy_net.get_weights())\n",
    "            \n",
    "    print('Episode : ', episode,' **** Exp/Use : ',exp_or_use,' **** Reward : ', total_reward ,' **** Time Step ', time_step)\n",
    "    results.append([episode, time_step])  \n",
    "    \n",
    "    #Train DQN Model\n",
    "    train_dqn(replay_memory, 200)\n",
    "    \n",
    "    #Decaying Exploration Rate\n",
    "    epsilon_ = 0.01 + (1 - 0.01)* np.exp(- 0.001 * episode)\n",
    "    \n",
    "env.close()"
   ]
  },
  {
   "cell_type": "code",
   "execution_count": 35,
   "metadata": {},
   "outputs": [
    {
     "data": {
      "text/plain": [
       "(10, 78)"
      ]
     },
     "execution_count": 35,
     "metadata": {},
     "output_type": "execute_result"
    },
    {
     "data": {
      "image/png": "[encoded data removed]",
      "text/plain": [
       "<Figure size 432x288 with 1 Axes>"
      ]
     },
     "metadata": {
      "needs_background": "light"
     },
     "output_type": "display_data"
    }
   ],
   "source": [
    "# Plot Results. X-EPisode Count , Y = Score/Time Step\n",
    "result_data = pd.DataFrame(results) \n",
    "plt.plot(result_data)\n",
    "plt.xlabel('Episodes')\n",
    "plt.ylabel('Time Step')\n",
    "plt.ylim((10,result_data[1].max()))\n"
   ]
  }
 ],
 "metadata": {
  "kernelspec": {
   "display_name": "Python 3",
   "language": "python",
   "name": "python3"
  },
  "language_info": {
   "codemirror_mode": {
    "name": "ipython",
    "version": 3
   },
   "file_extension": ".py",
   "mimetype": "text/x-python",
   "name": "python",
   "nbconvert_exporter": "python",
   "pygments_lexer": "ipython3",
   "version": "3.7.3"
  }
 },
 "nbformat": 4,
 "nbformat_minor": 4
}
