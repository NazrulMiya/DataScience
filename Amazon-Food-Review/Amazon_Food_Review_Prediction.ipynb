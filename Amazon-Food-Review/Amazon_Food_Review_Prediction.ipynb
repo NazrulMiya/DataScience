{
  "nbformat": 4,
  "nbformat_minor": 0,
  "metadata": {
    "colab": {
      "name": "Amazon_Food_Review_Prediction.ipynb",
      "provenance": [],
      "collapsed_sections": [],
      "toc_visible": true,
      "machine_shape": "hm"
    },
    "kernelspec": {
      "name": "python3",
      "display_name": "Python 3"
    },
    "accelerator": "TPU"
  },
  "cells": [
    {
      "cell_type": "markdown",
      "metadata": {
        "id": "ndQn4MfZlFQN",
        "colab_type": "text"
      },
      "source": [
        "# Amazon Food Reveiw Prediction\n",
        "\n",
        "Data URL: https://www.kaggle.com/snap/amazon-fine-food-reviews\n",
        "\n",
        "This dataset consists of reviews of fine foods from amazon. The data span a period of more than 10 years, including all ~500,000 reviews up to October 2012. Reviews include product and user information, ratings, and a plain text review. It also includes reviews from all other Amazon categories.\n",
        "\n",
        "DataSet contains below features:  \n",
        "**Id :** Row Id  \n",
        "**ProductId :** Unique identifier for the product  \n",
        "**UserId :** Unqiue identifier for the user  \n",
        "**ProfileName :** Profile name of the user  \n",
        "**HelpfulnessNumerator :** Number of users who found the review helpful  \n",
        "**HelpfulnessDenominator :** Number of users who indicated whether they found the review helpful or not  \n",
        "**Score :** Rating between 1 and 5  \n",
        "**Time :** Timestamp for the review  \n",
        "**Summary :** Brief summary of the review  \n",
        "**Text :** Text of the review "
      ]
    },
    {
      "cell_type": "markdown",
      "metadata": {
        "id": "D5Idw9i_lTJ2",
        "colab_type": "text"
      },
      "source": [
        "### Importing Necessary Libraries"
      ]
    },
    {
      "cell_type": "code",
      "metadata": {
        "id": "uQ5GtV8tlWi_",
        "colab_type": "code",
        "outputId": "18d00aa1-0ae4-476d-e01b-6e33ac7c24aa",
        "colab": {
          "base_uri": "https://localhost:8080/",
          "height": 170
        }
      },
      "source": [
        "# Generic\n",
        "import numpy as np\n",
        "import pandas as pd\n",
        "import matplotlib.pyplot as plt\n",
        "import seaborn as sns\n",
        "\n",
        "# sklearn - specific\n",
        "from sklearn.preprocessing import MinMaxScaler, StandardScaler, Normalizer\n",
        "from sklearn.feature_extraction.text import TfidfVectorizer\n",
        "from sklearn.model_selection import train_test_split\n",
        "from sklearn.linear_model import LogisticRegression, SGDClassifier\n",
        "from sklearn.metrics import confusion_matrix, accuracy_score\n",
        "\n",
        "# NLP - specific\n",
        "import nltk\n",
        "nltk.download('stopwords')\n",
        "from nltk.corpus import stopwords\n",
        "nltk.download('wordnet')\n",
        "from nltk.stem import PorterStemmer\n",
        "nltk.download('averaged_perceptron_tagger')"
      ],
      "execution_count": 37,
      "outputs": [
        {
          "output_type": "stream",
          "text": [
            "[nltk_data] Downloading package stopwords to /root/nltk_data...\n",
            "[nltk_data]   Package stopwords is already up-to-date!\n",
            "[nltk_data] Downloading package wordnet to /root/nltk_data...\n",
            "[nltk_data]   Package wordnet is already up-to-date!\n",
            "[nltk_data] Downloading package averaged_perceptron_tagger to\n",
            "[nltk_data]     /root/nltk_data...\n",
            "[nltk_data]   Package averaged_perceptron_tagger is already up-to-\n",
            "[nltk_data]       date!\n"
          ],
          "name": "stdout"
        },
        {
          "output_type": "execute_result",
          "data": {
            "text/plain": [
              "True"
            ]
          },
          "metadata": {
            "tags": []
          },
          "execution_count": 37
        }
      ]
    },
    {
      "cell_type": "markdown",
      "metadata": {
        "id": "FnSbX3_ImEoL",
        "colab_type": "text"
      },
      "source": [
        "## Load Data\n",
        "\n",
        "Downloaded Original Dataset from URL : https://www.kaggle.com/snap/amazon-fine-food-reviews"
      ]
    },
    {
      "cell_type": "markdown",
      "metadata": {
        "id": "TRYPWnctjG5V",
        "colab_type": "text"
      },
      "source": [
        "### Uploading Original Dataset into google colab"
      ]
    },
    {
      "cell_type": "code",
      "metadata": {
        "id": "vl4RyQZzAG6v",
        "colab_type": "code",
        "outputId": "b33fb839-f1c9-43bb-c7a7-d10e7f1eebd4",
        "colab": {
          "resources": {
            "http://localhost:8080/nbextensions/google.colab/files.js": {
              "data": "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",
              "ok": true,
              "headers": [
                [
                  "content-type",
                  "application/javascript"
                ]
              ],
              "status": 200,
              "status_text": ""
            }
          },
          "base_uri": "https://localhost:8080/",
          "height": 40
        }
      },
      "source": [
        "from google.colab import files\n",
        "uploaded = files.upload()"
      ],
      "execution_count": 2,
      "outputs": [
        {
          "output_type": "display_data",
          "data": {
            "text/html": [
              "\n",
              "     <input type=\"file\" id=\"files-83fc9c59-31ca-4f0c-9948-aba37536d840\" name=\"files[]\" multiple disabled />\n",
              "     <output id=\"result-83fc9c59-31ca-4f0c-9948-aba37536d840\">\n",
              "      Upload widget is only available when the cell has been executed in the\n",
              "      current browser session. Please rerun this cell to enable.\n",
              "      </output>\n",
              "      <script src=\"/nbextensions/google.colab/files.js\"></script> "
            ],
            "text/plain": [
              "<IPython.core.display.HTML object>"
            ]
          },
          "metadata": {
            "tags": []
          }
        }
      ]
    },
    {
      "cell_type": "markdown",
      "metadata": {
        "id": "MUALkIe6jKO_",
        "colab_type": "text"
      },
      "source": [
        "### Reading Data from uploaded csv file"
      ]
    },
    {
      "cell_type": "code",
      "metadata": {
        "id": "NyMytCOPnUxj",
        "colab_type": "code",
        "colab": {}
      },
      "source": [
        "data = pd.read_csv('/content/drive/My Drive/Study Materials/Amazon_Food_Review_DataSet.csv')"
      ],
      "execution_count": 0,
      "outputs": []
    },
    {
      "cell_type": "markdown",
      "metadata": {
        "id": "6gdrbND_jlbZ",
        "colab_type": "text"
      },
      "source": [
        "## Data Info"
      ]
    },
    {
      "cell_type": "code",
      "metadata": {
        "id": "03MHf9mreQOd",
        "colab_type": "code",
        "outputId": "a5cfffd3-9898-4c56-a03a-0194eecf66ce",
        "colab": {
          "base_uri": "https://localhost:8080/",
          "height": 34
        }
      },
      "source": [
        "data.shape"
      ],
      "execution_count": 4,
      "outputs": [
        {
          "output_type": "execute_result",
          "data": {
            "text/plain": [
              "(568454, 10)"
            ]
          },
          "metadata": {
            "tags": []
          },
          "execution_count": 4
        }
      ]
    },
    {
      "cell_type": "code",
      "metadata": {
        "id": "nJcqsqW2fBfF",
        "colab_type": "code",
        "outputId": "8dee1fcd-a27e-4c61-e7e8-149715f9a01f",
        "colab": {
          "base_uri": "https://localhost:8080/",
          "height": 272
        }
      },
      "source": [
        "data.info()"
      ],
      "execution_count": 5,
      "outputs": [
        {
          "output_type": "stream",
          "text": [
            "<class 'pandas.core.frame.DataFrame'>\n",
            "RangeIndex: 568454 entries, 0 to 568453\n",
            "Data columns (total 10 columns):\n",
            "Id                        568454 non-null int64\n",
            "ProductId                 568454 non-null object\n",
            "UserId                    568454 non-null object\n",
            "ProfileName               568438 non-null object\n",
            "HelpfulnessNumerator      568454 non-null int64\n",
            "HelpfulnessDenominator    568454 non-null int64\n",
            "Score                     568454 non-null int64\n",
            "Time                      568454 non-null int64\n",
            "Summary                   568427 non-null object\n",
            "Text                      568454 non-null object\n",
            "dtypes: int64(5), object(5)\n",
            "memory usage: 43.4+ MB\n"
          ],
          "name": "stdout"
        }
      ]
    },
    {
      "cell_type": "markdown",
      "metadata": {
        "id": "b7nYxjX9kBdL",
        "colab_type": "text"
      },
      "source": [
        "## Cloning Data\n",
        "\n",
        "Cloning data into another variable so not to change original dataset."
      ]
    },
    {
      "cell_type": "code",
      "metadata": {
        "id": "hOj6Q_Q3kKs4",
        "colab_type": "code",
        "colab": {}
      },
      "source": [
        "def clone_data(dataset):\n",
        "  return dataset.copy(deep=True)"
      ],
      "execution_count": 0,
      "outputs": []
    },
    {
      "cell_type": "markdown",
      "metadata": {
        "id": "BcYK48OjkZmw",
        "colab_type": "text"
      },
      "source": [
        "## Feature Engineering & Data Preprocessing"
      ]
    },
    {
      "cell_type": "markdown",
      "metadata": {
        "id": "3yCQFRplkxIg",
        "colab_type": "text"
      },
      "source": [
        "### Duplicate Records Deletion"
      ]
    },
    {
      "cell_type": "code",
      "metadata": {
        "id": "x4lUJuuSk3K7",
        "colab_type": "code",
        "colab": {}
      },
      "source": [
        "def delete_duplicate_records(df, keys):\n",
        "  \n",
        "  # Check if any duplicate rows\n",
        "  duplicate_reviews_count = df[df.duplicated(keys, keep='first') == True].shape[0]\n",
        "  print('Number of Duplicate Reviews by a user for same product : ', duplicate_reviews_count)\n",
        "\n",
        "  if duplicate_reviews_count > 0:\n",
        "     #Deleting duplicate rows\n",
        "     df.drop_duplicates(keys, keep='first', inplace=True)\n",
        "  print('Duplicate Rows Deletion ... Completed')\n",
        "  return df"
      ],
      "execution_count": 0,
      "outputs": []
    },
    {
      "cell_type": "markdown",
      "metadata": {
        "id": "exzHEzIvmPZY",
        "colab_type": "text"
      },
      "source": [
        "### Unwanted Features Removal"
      ]
    },
    {
      "cell_type": "code",
      "metadata": {
        "id": "KW3r7BZNmVGq",
        "colab_type": "code",
        "colab": {}
      },
      "source": [
        "def drop_features(df, features):\n",
        "  if len(features) > 0:\n",
        "    df.drop(features, axis=1, inplace=True)\n",
        "  \n",
        "  print('{} Features Deletion ... Completed'.format(len(features)))\n",
        "  return df"
      ],
      "execution_count": 0,
      "outputs": []
    },
    {
      "cell_type": "markdown",
      "metadata": {
        "id": "oIuuPWT5mj-1",
        "colab_type": "text"
      },
      "source": [
        "### Missing Value Treatment"
      ]
    },
    {
      "cell_type": "code",
      "metadata": {
        "id": "W_OlL5SRp9ee",
        "colab_type": "code",
        "colab": {}
      },
      "source": [
        "def drop_missing_records(df):\n",
        "  df.dropna(axis=0,how='any', inplace=True)\n",
        "  return df"
      ],
      "execution_count": 0,
      "outputs": []
    },
    {
      "cell_type": "markdown",
      "metadata": {
        "id": "ECw9SzkNzI80",
        "colab_type": "text"
      },
      "source": [
        "### Feature Correlation"
      ]
    },
    {
      "cell_type": "code",
      "metadata": {
        "id": "VKRHXFP0zhel",
        "colab_type": "code",
        "colab": {
          "base_uri": "https://localhost:8080/",
          "height": 383
        },
        "outputId": "f7dddf1f-39dc-443e-ea01-621a5823aa94"
      },
      "source": [
        "sns.heatmap(data=data_.corr(), annot=True, fmt='.2f', cbar=True)\n",
        "plt.show()"
      ],
      "execution_count": 97,
      "outputs": [
        {
          "output_type": "display_data",
          "data": {
            "image/png": "[encoded data removed]",
            "text/plain": [
              "<Figure size 432x288 with 2 Axes>"
            ]
          },
          "metadata": {
            "tags": []
          }
        }
      ]
    },
    {
      "cell_type": "markdown",
      "metadata": {
        "id": "nxXO5_u60D0T",
        "colab_type": "text"
      },
      "source": [
        "### Feature Statistics"
      ]
    },
    {
      "cell_type": "code",
      "metadata": {
        "id": "t5SdfqPz054t",
        "colab_type": "code",
        "colab": {}
      },
      "source": [
        "def show_feature_stat(df):\n",
        "  return df.describe()"
      ],
      "execution_count": 0,
      "outputs": []
    },
    {
      "cell_type": "markdown",
      "metadata": {
        "id": "0JXYLE4H2zT6",
        "colab_type": "text"
      },
      "source": [
        "### Feature Value Mapping"
      ]
    },
    {
      "cell_type": "code",
      "metadata": {
        "id": "Bdjc7IO224BK",
        "colab_type": "code",
        "colab": {}
      },
      "source": [
        "def transform_values(df, feature, mapping):\n",
        "  df[feature] = df[feature].map(mapping)\n",
        "  return df"
      ],
      "execution_count": 0,
      "outputs": []
    },
    {
      "cell_type": "markdown",
      "metadata": {
        "id": "NtPwUwuq6Rrt",
        "colab_type": "text"
      },
      "source": [
        "### Outlier Treatment"
      ]
    },
    {
      "cell_type": "code",
      "metadata": {
        "id": "b1Qg8bZv6Uqq",
        "colab_type": "code",
        "colab": {}
      },
      "source": [
        "def treat_outliers(df, feature):\n",
        "  print('Scatter Plot Visual.... \\n')\n",
        "  sns.scatterplot(data=df[feature])\n",
        "  plt.show()\n",
        "\n",
        "  #Percentile Method to handle Outlier\n",
        "  percentile_99th = np.percentile(a=df[feature],q=99.05)\n",
        "  print('99.05th Percentile Value for feature {} is {} '.format(feature, percentile_99th))\n",
        "\n",
        "  outlier_count = df[feature][df[feature] > percentile_99th].count()\n",
        "  print('There are {} outliers , value above 99th Percentile'.format(outlier_count))\n",
        "\n",
        "  df[feature][df[feature] > percentile_99th] = percentile_99th\n",
        "  print('Outliers treatment ... Completed')\n",
        "\n",
        "  return df"
      ],
      "execution_count": 0,
      "outputs": []
    },
    {
      "cell_type": "markdown",
      "metadata": {
        "id": "swVMzpJW97AR",
        "colab_type": "text"
      },
      "source": [
        "### Feature Scaling"
      ]
    },
    {
      "cell_type": "code",
      "metadata": {
        "id": "5T6-U8Re9-GH",
        "colab_type": "code",
        "colab": {}
      },
      "source": [
        "def feature_scale(df, features, scaler_type ='Standard'):\n",
        "  if scaler_type == 'MinMax':\n",
        "    scaler = MinMaxScaler()\n",
        "  elif scaler_type == 'Normalizer':\n",
        "    scaler = Normalizer()\n",
        "  else:\n",
        "    scaler = StandardScaler()\n",
        "\n",
        "  ft_array = df[features].values\n",
        "  scaled_values = scaler.fit_transform(ft_array.reshape(-1,1))\n",
        "  df.loc[:,features] = scaled_values\n",
        "\n",
        "  return df, scaler"
      ],
      "execution_count": 0,
      "outputs": []
    },
    {
      "cell_type": "markdown",
      "metadata": {
        "id": "v5MonrR3_JkK",
        "colab_type": "text"
      },
      "source": [
        "### Text Data Preprocessing (NLTK)"
      ]
    },
    {
      "cell_type": "markdown",
      "metadata": {
        "id": "2hzu3TKcAIvv",
        "colab_type": "text"
      },
      "source": [
        "#### Preprocessing"
      ]
    },
    {
      "cell_type": "code",
      "metadata": {
        "id": "aWk9EMIH_QT0",
        "colab_type": "code",
        "colab": {}
      },
      "source": [
        "def preprocess_text_data(df, text_feature):\n",
        "\n",
        "  # Replacing Non Aplhabetical Characters\n",
        "  cleaned_text = df[text_feature].str.replace('[^A-Za-z\\s]', '') \n",
        "\n",
        "  # To lowercase\n",
        "  # Stopword Removal\n",
        "  # Porter Stemming\n",
        "  # Shorter length word removal\n",
        "  stop_words = stopwords.words('english')\n",
        "  stemer = PorterStemmer()\n",
        "  cleaned_text = [' '.join([stemer.stem(tokens.lower()) for tokens in review_tokens.split(' ') if len(tokens) > 2 and tokens.lower() not in stop_words]) for review_tokens in cleaned_text]\n",
        "\n",
        "  return cleaned_text"
      ],
      "execution_count": 0,
      "outputs": []
    },
    {
      "cell_type": "markdown",
      "metadata": {
        "id": "ifnbFgQuAWUJ",
        "colab_type": "text"
      },
      "source": [
        "#### Feature Extraction (Word Embedding)"
      ]
    },
    {
      "cell_type": "code",
      "metadata": {
        "id": "3Iru3D5iAbgb",
        "colab_type": "code",
        "colab": {}
      },
      "source": [
        "def extract_features(text_array, max_features = 1000, max_df = 0.9):\n",
        "\n",
        "  vectorizer = TfidfVectorizer(max_features=max_features, max_df=max_df)\n",
        "  tf_idf_matrix = vectorizer.fit_transform(text_array)\n",
        "  \n",
        "  return tf_idf_matrix, vectorizer"
      ],
      "execution_count": 0,
      "outputs": []
    },
    {
      "cell_type": "markdown",
      "metadata": {
        "id": "7bzB9YsF8Y5w",
        "colab_type": "text"
      },
      "source": [
        "## Model Building"
      ]
    },
    {
      "cell_type": "markdown",
      "metadata": {
        "id": "pSisDXbs8biE",
        "colab_type": "text"
      },
      "source": [
        "### Features Seperation"
      ]
    },
    {
      "cell_type": "code",
      "metadata": {
        "id": "6MkfEty78oBV",
        "colab_type": "code",
        "colab": {}
      },
      "source": [
        "def get_features_seperated(df, target, features=None):\n",
        "  if len(features) > 0:\n",
        "    X = df[features]\n",
        "  else:\n",
        "    X = df.drop(target, axis=1)\n",
        "\n",
        "  Y = df[target]\n",
        "\n",
        "  return X, Y"
      ],
      "execution_count": 0,
      "outputs": []
    },
    {
      "cell_type": "markdown",
      "metadata": {
        "id": "aIevYlF79JTl",
        "colab_type": "text"
      },
      "source": [
        "### Train and Test Data Split"
      ]
    },
    {
      "cell_type": "code",
      "metadata": {
        "id": "NfF8W27U9PRR",
        "colab_type": "code",
        "colab": {}
      },
      "source": [
        "def get_train_test_data(X, Y, test_size=0.2):\n",
        "  X_Train, X_Test, Y_Train, Y_Test = train_test_split(X,Y ,test_size=test_size, random_state=42)\n",
        "  return X_Train, X_Test, Y_Train, Y_Test"
      ],
      "execution_count": 0,
      "outputs": []
    },
    {
      "cell_type": "markdown",
      "metadata": {
        "id": "M0WqU71hCeQD",
        "colab_type": "text"
      },
      "source": [
        "### Train Model"
      ]
    },
    {
      "cell_type": "markdown",
      "metadata": {
        "id": "qJB-ClqYCn_u",
        "colab_type": "text"
      },
      "source": [
        "#### SGD Classifier Model"
      ]
    },
    {
      "cell_type": "code",
      "metadata": {
        "id": "8NoRDI0SCqlz",
        "colab_type": "code",
        "colab": {}
      },
      "source": [
        "def train_sgd_clf(X_Train, Y_Train, loss='log'):\n",
        "\n",
        "  clf = SGDClassifier(loss=loss, class_weight='balanced')\n",
        "  clf.fit(X_Train, Y_Train)\n",
        "\n",
        "  return clf"
      ],
      "execution_count": 0,
      "outputs": []
    },
    {
      "cell_type": "markdown",
      "metadata": {
        "id": "4p4j1DDaDGnx",
        "colab_type": "text"
      },
      "source": [
        "## Model Testing"
      ]
    },
    {
      "cell_type": "code",
      "metadata": {
        "id": "MvRJsrj7DI3z",
        "colab_type": "code",
        "colab": {}
      },
      "source": [
        "def test_model(model, X_Test, Y_Actual):\n",
        "\n",
        "  Y_Pred = model.predict(X_Test)\n",
        "\n",
        "  conf_matrx = confusion_matrix(Y_Actual,Y_Pred)\n",
        "  accuracy = accuracy_score(Y_Actual,Y_Pred)\n",
        "  \n",
        "  return pd.DataFrame(Y_Pred, columns=['Predicted_Score']), conf_matrx, accuracy"
      ],
      "execution_count": 0,
      "outputs": []
    },
    {
      "cell_type": "code",
      "metadata": {
        "id": "GKXafMdbChjv",
        "colab_type": "code",
        "colab": {}
      },
      "source": [
        ""
      ],
      "execution_count": 0,
      "outputs": []
    },
    {
      "cell_type": "markdown",
      "metadata": {
        "id": "eZ7YAdlwog2C",
        "colab_type": "text"
      },
      "source": [
        "## Trigger Point"
      ]
    },
    {
      "cell_type": "markdown",
      "metadata": {
        "id": "nHEEdn_CD25I",
        "colab_type": "text"
      },
      "source": [
        ">1. Cloning Data\n",
        "2. Deleting Duplicate Records (Key = ProductId and UserId)\n",
        "3. Droping Unwanted Features (Id, UserId, ProductId, ProfileName and Time)"
      ]
    },
    {
      "cell_type": "code",
      "metadata": {
        "id": "tUzqLBckooX0",
        "colab_type": "code",
        "colab": {
          "base_uri": "https://localhost:8080/",
          "height": 68
        },
        "outputId": "5910bd79-ad86-4925-f86d-821df921765d"
      },
      "source": [
        "data_ = clone_data(data)\n",
        "data_ = delete_duplicate_records(data_, keys=['ProductId','UserId'])\n",
        "data_ = drop_features(data_, features=['Id','UserId','ProductId','ProfileName','Time'])"
      ],
      "execution_count": 19,
      "outputs": [
        {
          "output_type": "stream",
          "text": [
            "Number of Duplicate Reviews by a user for same product :  7650\n",
            "Duplicate Rows Deletion ... Completed\n",
            "5 Features Deletion ... Completed\n"
          ],
          "name": "stdout"
        }
      ]
    },
    {
      "cell_type": "markdown",
      "metadata": {
        "id": "doI2SAK4GEmM",
        "colab_type": "text"
      },
      "source": [
        ">4. Check for Missing Values\n",
        "5. Delting Records with Missing Value(Because only 27 out of 5 lakh values are missing)"
      ]
    },
    {
      "cell_type": "code",
      "metadata": {
        "id": "QaCXIXnkn2XH",
        "colab_type": "code",
        "colab": {
          "base_uri": "https://localhost:8080/",
          "height": 153
        },
        "outputId": "6969ee0c-84b4-495b-80e2-1b00228871a8"
      },
      "source": [
        "print('Missing Value Counts Per Feature : \\n\\n',data_.isnull().sum())\n",
        "data_ = drop_missing_records(data_)"
      ],
      "execution_count": 20,
      "outputs": [
        {
          "output_type": "stream",
          "text": [
            "Missing Value Counts Per Feature : \n",
            "\n",
            " HelpfulnessNumerator       0\n",
            "HelpfulnessDenominator     0\n",
            "Score                      0\n",
            "Summary                   27\n",
            "Text                       0\n",
            "dtype: int64\n"
          ],
          "name": "stdout"
        }
      ]
    },
    {
      "cell_type": "markdown",
      "metadata": {
        "id": "GrGx4tCP0XwB",
        "colab_type": "text"
      },
      "source": [
        "> 6. Check for corelation between features 'HelpfulnessDenominator' and 'HelpfulnessNumerator'\n",
        "7. Drop one of the feature if r> 0.95\n"
      ]
    },
    {
      "cell_type": "code",
      "metadata": {
        "id": "dhB9FFB9p5A3",
        "colab_type": "code",
        "colab": {
          "base_uri": "https://localhost:8080/",
          "height": 297
        },
        "outputId": "4aa1452a-519c-453b-f73e-575584ef8f97"
      },
      "source": [
        "show_feature_stat(data_)"
      ],
      "execution_count": 21,
      "outputs": [
        {
          "output_type": "execute_result",
          "data": {
            "text/html": [
              "<div>\n",
              "<style scoped>\n",
              "    .dataframe tbody tr th:only-of-type {\n",
              "        vertical-align: middle;\n",
              "    }\n",
              "\n",
              "    .dataframe tbody tr th {\n",
              "        vertical-align: top;\n",
              "    }\n",
              "\n",
              "    .dataframe thead th {\n",
              "        text-align: right;\n",
              "    }\n",
              "</style>\n",
              "<table border=\"1\" class=\"dataframe\">\n",
              "  <thead>\n",
              "    <tr style=\"text-align: right;\">\n",
              "      <th></th>\n",
              "      <th>HelpfulnessNumerator</th>\n",
              "      <th>HelpfulnessDenominator</th>\n",
              "      <th>Score</th>\n",
              "    </tr>\n",
              "  </thead>\n",
              "  <tbody>\n",
              "    <tr>\n",
              "      <th>count</th>\n",
              "      <td>560777.000000</td>\n",
              "      <td>560777.000000</td>\n",
              "      <td>560777.000000</td>\n",
              "    </tr>\n",
              "    <tr>\n",
              "      <th>mean</th>\n",
              "      <td>1.743156</td>\n",
              "      <td>2.224328</td>\n",
              "      <td>4.183178</td>\n",
              "    </tr>\n",
              "    <tr>\n",
              "      <th>std</th>\n",
              "      <td>7.666544</td>\n",
              "      <td>8.314773</td>\n",
              "      <td>1.310479</td>\n",
              "    </tr>\n",
              "    <tr>\n",
              "      <th>min</th>\n",
              "      <td>0.000000</td>\n",
              "      <td>0.000000</td>\n",
              "      <td>1.000000</td>\n",
              "    </tr>\n",
              "    <tr>\n",
              "      <th>25%</th>\n",
              "      <td>0.000000</td>\n",
              "      <td>0.000000</td>\n",
              "      <td>4.000000</td>\n",
              "    </tr>\n",
              "    <tr>\n",
              "      <th>50%</th>\n",
              "      <td>0.000000</td>\n",
              "      <td>1.000000</td>\n",
              "      <td>5.000000</td>\n",
              "    </tr>\n",
              "    <tr>\n",
              "      <th>75%</th>\n",
              "      <td>2.000000</td>\n",
              "      <td>2.000000</td>\n",
              "      <td>5.000000</td>\n",
              "    </tr>\n",
              "    <tr>\n",
              "      <th>max</th>\n",
              "      <td>866.000000</td>\n",
              "      <td>923.000000</td>\n",
              "      <td>5.000000</td>\n",
              "    </tr>\n",
              "  </tbody>\n",
              "</table>\n",
              "</div>"
            ],
            "text/plain": [
              "       HelpfulnessNumerator  HelpfulnessDenominator          Score\n",
              "count         560777.000000           560777.000000  560777.000000\n",
              "mean               1.743156                2.224328       4.183178\n",
              "std                7.666544                8.314773       1.310479\n",
              "min                0.000000                0.000000       1.000000\n",
              "25%                0.000000                0.000000       4.000000\n",
              "50%                0.000000                1.000000       5.000000\n",
              "75%                2.000000                2.000000       5.000000\n",
              "max              866.000000              923.000000       5.000000"
            ]
          },
          "metadata": {
            "tags": []
          },
          "execution_count": 21
        }
      ]
    },
    {
      "cell_type": "markdown",
      "metadata": {
        "id": "a2qTfuXR1POH",
        "colab_type": "text"
      },
      "source": [
        "We can understand from above statistics that feature 'HelpfulnessNumerator' is better interms of mean, max, std values. Hence we would drop 'HelpfulnessDenominator'."
      ]
    },
    {
      "cell_type": "code",
      "metadata": {
        "id": "Xa_Z1KkF1oOT",
        "colab_type": "code",
        "colab": {
          "base_uri": "https://localhost:8080/",
          "height": 34
        },
        "outputId": "aeb8eb60-3249-4944-e283-754cf67f5758"
      },
      "source": [
        "data_ = drop_features(data_, features=['HelpfulnessDenominator'])"
      ],
      "execution_count": 22,
      "outputs": [
        {
          "output_type": "stream",
          "text": [
            "1 Features Deletion ... Completed\n"
          ],
          "name": "stdout"
        }
      ]
    },
    {
      "cell_type": "markdown",
      "metadata": {
        "id": "XxKAFfV3GvbN",
        "colab_type": "text"
      },
      "source": [
        ">8. Check for Outliers in feature 'HelpfulnessNumerator'\n",
        "9. Replace outliers with 99th Percentile value"
      ]
    },
    {
      "cell_type": "code",
      "metadata": {
        "id": "IyxlXvfZ5e7w",
        "colab_type": "code",
        "colab": {
          "base_uri": "https://localhost:8080/",
          "height": 455
        },
        "outputId": "2c39c3ea-adfb-4e62-fc91-0bd4b6b0c442"
      },
      "source": [
        "data_ = treat_outliers(data_, feature='HelpfulnessNumerator')"
      ],
      "execution_count": 23,
      "outputs": [
        {
          "output_type": "stream",
          "text": [
            "Scatter Plot Visual.... \n",
            "\n"
          ],
          "name": "stdout"
        },
        {
          "output_type": "display_data",
          "data": {
            "image/png": "[encoded data removed]",
            "text/plain": [
              "<Figure size 432x288 with 1 Axes>"
            ]
          },
          "metadata": {
            "tags": []
          }
        },
        {
          "output_type": "stream",
          "text": [
            "99.05th Percentile Value for feature HelpfulnessNumerator is 20.0 \n",
            "There are 5090 outliers , value above 99th Percentile\n",
            "Outliers treatment ... Completed\n"
          ],
          "name": "stdout"
        },
        {
          "output_type": "stream",
          "text": [
            "/usr/local/lib/python3.6/dist-packages/ipykernel_launcher.py:13: SettingWithCopyWarning: \n",
            "A value is trying to be set on a copy of a slice from a DataFrame\n",
            "\n",
            "See the caveats in the documentation: http://pandas.pydata.org/pandas-docs/stable/user_guide/indexing.html#returning-a-view-versus-a-copy\n",
            "  del sys.path[0]\n"
          ],
          "name": "stderr"
        }
      ]
    },
    {
      "cell_type": "markdown",
      "metadata": {
        "id": "YobiHil0G8wZ",
        "colab_type": "text"
      },
      "source": [
        ">10. Changing Score numerical values to categorical. "
      ]
    },
    {
      "cell_type": "code",
      "metadata": {
        "id": "wSRVV3Uf3SWL",
        "colab_type": "code",
        "colab": {}
      },
      "source": [
        "mapping = {1:'Negetive', 2:'Negetive', 3:'Neutral', 4:'Positive', 5:'Positive' }\n",
        "data_ = transform_values(data_, 'Score', mapping)"
      ],
      "execution_count": 0,
      "outputs": []
    },
    {
      "cell_type": "markdown",
      "metadata": {
        "id": "b2ELHtLYHMld",
        "colab_type": "text"
      },
      "source": [
        ">Model Building \n",
        " 11. Taking Random sample of size 80% from original dataset. \n",
        " 12. Sperate out features and target variable\n",
        " 13. Split Dataset into Training and Testing with a test size of 30%"
      ]
    },
    {
      "cell_type": "code",
      "metadata": {
        "id": "A6G8icg05Osr",
        "colab_type": "code",
        "colab": {
          "base_uri": "https://localhost:8080/",
          "height": 34
        },
        "outputId": "b189b4a7-2439-422a-ad91-3259e58b7d9c"
      },
      "source": [
        "sampled_data = data_.sample(frac=0.8, random_state=11)\n",
        "print('Sampled Data Size ', sampled_data.shape)"
      ],
      "execution_count": 25,
      "outputs": [
        {
          "output_type": "stream",
          "text": [
            "Sampled Data Size  (448622, 4)\n"
          ],
          "name": "stdout"
        }
      ]
    },
    {
      "cell_type": "code",
      "metadata": {
        "id": "RHgXlnnZ3dTA",
        "colab_type": "code",
        "colab": {
          "base_uri": "https://localhost:8080/",
          "height": 85
        },
        "outputId": "eb230677-8473-4f5b-e811-3fb4970f9eec"
      },
      "source": [
        "features, target = get_features_seperated(sampled_data, target='Score' , features=['HelpfulnessNumerator','Summary'])\n",
        "train_features, test_features, train_target, test_target = get_train_test_data(features, target, test_size=0.3)\n",
        "print('Shape of Trainig Features , ',train_features.shape)\n",
        "print('Shape of Testing Features , ',test_features.shape)\n",
        "print('Shape of Training Target ,',train_target.shape)\n",
        "print('Shape of Testing Target ,',test_target.shape)"
      ],
      "execution_count": 28,
      "outputs": [
        {
          "output_type": "stream",
          "text": [
            "Shape of Trainig Features ,  (314035, 2)\n",
            "Shape of Testing Features ,  (134587, 2)\n",
            "Shape of Training Target , (314035,)\n",
            "Shape of Testing Target , (134587,)\n"
          ],
          "name": "stdout"
        }
      ]
    },
    {
      "cell_type": "markdown",
      "metadata": {
        "id": "dqfICh89KTdi",
        "colab_type": "text"
      },
      "source": [
        ">14. Feature Scaling for 'HelpfulnessNumerator' - (MinMaxScaling)"
      ]
    },
    {
      "cell_type": "code",
      "metadata": {
        "id": "I-iP1YbeKgJD",
        "colab_type": "code",
        "colab": {
          "base_uri": "https://localhost:8080/",
          "height": 326
        },
        "outputId": "9d3a4390-8e60-4120-eece-3b99cec62fd8"
      },
      "source": [
        "train_features, scaler = feature_scale(train_features, 'HelpfulnessNumerator', scaler_type ='MinMax')\n",
        "train_features.head()"
      ],
      "execution_count": 29,
      "outputs": [
        {
          "output_type": "stream",
          "text": [
            "/usr/local/lib/python3.6/dist-packages/pandas/core/indexing.py:494: SettingWithCopyWarning: \n",
            "A value is trying to be set on a copy of a slice from a DataFrame.\n",
            "Try using .loc[row_indexer,col_indexer] = value instead\n",
            "\n",
            "See the caveats in the documentation: http://pandas.pydata.org/pandas-docs/stable/user_guide/indexing.html#returning-a-view-versus-a-copy\n",
            "  self.obj[item] = s\n"
          ],
          "name": "stderr"
        },
        {
          "output_type": "execute_result",
          "data": {
            "text/html": [
              "<div>\n",
              "<style scoped>\n",
              "    .dataframe tbody tr th:only-of-type {\n",
              "        vertical-align: middle;\n",
              "    }\n",
              "\n",
              "    .dataframe tbody tr th {\n",
              "        vertical-align: top;\n",
              "    }\n",
              "\n",
              "    .dataframe thead th {\n",
              "        text-align: right;\n",
              "    }\n",
              "</style>\n",
              "<table border=\"1\" class=\"dataframe\">\n",
              "  <thead>\n",
              "    <tr style=\"text-align: right;\">\n",
              "      <th></th>\n",
              "      <th>HelpfulnessNumerator</th>\n",
              "      <th>Summary</th>\n",
              "    </tr>\n",
              "  </thead>\n",
              "  <tbody>\n",
              "    <tr>\n",
              "      <th>189373</th>\n",
              "      <td>0.1</td>\n",
              "      <td>Gives a Good Hint of Coconut to Food</td>\n",
              "    </tr>\n",
              "    <tr>\n",
              "      <th>96389</th>\n",
              "      <td>0.1</td>\n",
              "      <td>Almost perfect oil.</td>\n",
              "    </tr>\n",
              "    <tr>\n",
              "      <th>239295</th>\n",
              "      <td>0.0</td>\n",
              "      <td>I love this!!!</td>\n",
              "    </tr>\n",
              "    <tr>\n",
              "      <th>380388</th>\n",
              "      <td>0.1</td>\n",
              "      <td>Arrived moldy!</td>\n",
              "    </tr>\n",
              "    <tr>\n",
              "      <th>199702</th>\n",
              "      <td>0.0</td>\n",
              "      <td>horrible but seller stands by his product</td>\n",
              "    </tr>\n",
              "  </tbody>\n",
              "</table>\n",
              "</div>"
            ],
            "text/plain": [
              "        HelpfulnessNumerator                                    Summary\n",
              "189373                   0.1       Gives a Good Hint of Coconut to Food\n",
              "96389                    0.1                        Almost perfect oil.\n",
              "239295                   0.0                             I love this!!!\n",
              "380388                   0.1                             Arrived moldy!\n",
              "199702                   0.0  horrible but seller stands by his product"
            ]
          },
          "metadata": {
            "tags": []
          },
          "execution_count": 29
        }
      ]
    },
    {
      "cell_type": "markdown",
      "metadata": {
        "id": "0AqcneqILmW0",
        "colab_type": "text"
      },
      "source": [
        ">14. Preprocessing Feature 'Summary'\n",
        "15. Extract features from preprocessed text. (Keeping max 5000 features, dropping features which occured more than 80% of time)"
      ]
    },
    {
      "cell_type": "code",
      "metadata": {
        "id": "eWjMZzFkLwBh",
        "colab_type": "code",
        "colab": {}
      },
      "source": [
        "processed_summary = preprocess_text_data(train_features, 'Summary')\n",
        "feature_matrix, vectorizer = extract_features(processed_summary, max_features=5000, max_df=0.8)"
      ],
      "execution_count": 0,
      "outputs": []
    },
    {
      "cell_type": "markdown",
      "metadata": {
        "id": "BYoOIeiu7agQ",
        "colab_type": "text"
      },
      "source": [
        ">16. Changing data type of feature matrix from 'float64' to 'float32' inorder to consume less memory"
      ]
    },
    {
      "cell_type": "code",
      "metadata": {
        "id": "5omz8gxEMbt_",
        "colab_type": "code",
        "colab": {}
      },
      "source": [
        "feature_matrix = feature_matrix.astype('float32')"
      ],
      "execution_count": 0,
      "outputs": []
    },
    {
      "cell_type": "code",
      "metadata": {
        "id": "5AIc74SBopUr",
        "colab_type": "code",
        "colab": {
          "base_uri": "https://localhost:8080/",
          "height": 34
        },
        "outputId": "9387e9c4-952a-4a9f-f1dd-ff57e1e3d47a"
      },
      "source": [
        "feature_matrix.shape"
      ],
      "execution_count": 33,
      "outputs": [
        {
          "output_type": "execute_result",
          "data": {
            "text/plain": [
              "(314035, 5000)"
            ]
          },
          "metadata": {
            "tags": []
          },
          "execution_count": 33
        }
      ]
    },
    {
      "cell_type": "markdown",
      "metadata": {
        "id": "Fw6DPjORMYgk",
        "colab_type": "text"
      },
      "source": [
        "Now we will combine this matrix data with 'train_features' and then we will pass this combined data as an input to our classifier."
      ]
    },
    {
      "cell_type": "code",
      "metadata": {
        "id": "JOczK-kDMvNt",
        "colab_type": "code",
        "colab": {
          "base_uri": "https://localhost:8080/",
          "height": 122
        },
        "outputId": "7c72dff9-7645-48fe-925f-9c82d9b5c8b5"
      },
      "source": [
        "#Reseting Index\n",
        "train_features.reset_index(inplace=True, drop=True)\n",
        "\n",
        "# Removing the unwanted 'Summary' feature because already we extractde fetaures from 'Summary'\n",
        "train_features.drop('Summary',axis=1,inplace=True)\n",
        "\n",
        "# Chaning 'train_features' dtype to 'float32'\n",
        "train_features = train_features.astype('float32', copy=True)\n",
        "\n",
        "# Concatenating feature_matrix with train_features to get final features\n",
        "train_features = pd.concat([train_features,pd.DataFrame(feature_matrix.toarray(),dtype='float32')],axis=1)"
      ],
      "execution_count": 34,
      "outputs": [
        {
          "output_type": "stream",
          "text": [
            "/usr/local/lib/python3.6/dist-packages/pandas/core/frame.py:4117: SettingWithCopyWarning: \n",
            "A value is trying to be set on a copy of a slice from a DataFrame\n",
            "\n",
            "See the caveats in the documentation: http://pandas.pydata.org/pandas-docs/stable/user_guide/indexing.html#returning-a-view-versus-a-copy\n",
            "  errors=errors,\n"
          ],
          "name": "stderr"
        }
      ]
    },
    {
      "cell_type": "markdown",
      "metadata": {
        "id": "9HkkfZIy_Nmu",
        "colab_type": "text"
      },
      "source": [
        ">17. Lets Train SGD Classifer model. Loss = 'log' indicates it would train a LogisticRegression Model with SGD training approach."
      ]
    },
    {
      "cell_type": "code",
      "metadata": {
        "id": "DgF3AHxrYWKF",
        "colab_type": "code",
        "colab": {}
      },
      "source": [
        "model = train_sgd_clf(X_Train=train_features.values, Y_Train=train_target.values, loss='log')"
      ],
      "execution_count": 0,
      "outputs": []
    },
    {
      "cell_type": "markdown",
      "metadata": {
        "id": "UiRItoeaAwrG",
        "colab_type": "text"
      },
      "source": [
        "Training SGD Classifier with data input of shape (314035, 5000) is completed. Now we will test our model.\n",
        "\n",
        "Before testing our test data also has to be preprocessed likewise trainind data."
      ]
    },
    {
      "cell_type": "code",
      "metadata": {
        "id": "QHUesPmK7jQd",
        "colab_type": "code",
        "colab": {
          "base_uri": "https://localhost:8080/",
          "height": 224
        },
        "outputId": "2d91f710-17e4-40ad-d187-c7891a23d86d"
      },
      "source": [
        "# Scaling 'HelpfulnessNumerator'\n",
        "test_features['HelpfulnessNumerator'] = scaler.transform(test_features.HelpfulnessNumerator.values.reshape(-1,1))\n",
        "\n",
        "# Preprocessing Summary\n",
        "test_processed_summary = preprocess_text_data(test_features, 'Summary')\n",
        "\n",
        "# Extracting Features\n",
        "test_feature_matrix = vectorizer.transform(test_processed_summary)\n",
        "test_feature_matrix = test_feature_matrix.astype('float32')\n",
        "\n",
        "# preparing test_features\n",
        "test_features.reset_index(inplace=True, drop=True)\n",
        "test_features.drop('Summary',axis=1,inplace=True)\n",
        "test_features = test_features.astype('float32', copy=True)\n",
        "\n",
        "# Combining test_features with test_feature_matrix\n",
        "test_features = np.concatenate([test_features,test_feature_matrix.toarray()],axis=1)"
      ],
      "execution_count": 41,
      "outputs": [
        {
          "output_type": "stream",
          "text": [
            "/usr/local/lib/python3.6/dist-packages/ipykernel_launcher.py:1: SettingWithCopyWarning: \n",
            "A value is trying to be set on a copy of a slice from a DataFrame.\n",
            "Try using .loc[row_indexer,col_indexer] = value instead\n",
            "\n",
            "See the caveats in the documentation: http://pandas.pydata.org/pandas-docs/stable/user_guide/indexing.html#returning-a-view-versus-a-copy\n",
            "  \"\"\"Entry point for launching an IPython kernel.\n",
            "/usr/local/lib/python3.6/dist-packages/pandas/core/frame.py:4117: SettingWithCopyWarning: \n",
            "A value is trying to be set on a copy of a slice from a DataFrame\n",
            "\n",
            "See the caveats in the documentation: http://pandas.pydata.org/pandas-docs/stable/user_guide/indexing.html#returning-a-view-versus-a-copy\n",
            "  errors=errors,\n"
          ],
          "name": "stderr"
        }
      ]
    },
    {
      "cell_type": "markdown",
      "metadata": {
        "id": "g-2wPbpjBeWq",
        "colab_type": "text"
      },
      "source": [
        "Test Data has been preprocessed using same 'scaler' and 'vectorizer' object as used to preprocess training dataset. Now we will test model by passing 'model' object and final test data."
      ]
    },
    {
      "cell_type": "code",
      "metadata": {
        "id": "ElLH5hd68pSd",
        "colab_type": "code",
        "colab": {
          "base_uri": "https://localhost:8080/",
          "height": 316
        },
        "outputId": "7d7889b6-a0ba-4649-9e68-447191934b52"
      },
      "source": [
        "predicted_vals, conf_matrix, accuracy = test_model(model=model, X_Test= test_features, Y_Actual= test_target )\n",
        "\n",
        "print('Confusion Matrix \\n')\n",
        "sns.heatmap(data=conf_matrix, fmt='d', annot=True)\n",
        "plt.show()\n",
        "\n",
        "print('Accuracy Score , ', accuracy)"
      ],
      "execution_count": 47,
      "outputs": [
        {
          "output_type": "stream",
          "text": [
            "Confusion Matrix \n",
            "\n"
          ],
          "name": "stdout"
        },
        {
          "output_type": "display_data",
          "data": {
            "image/png": "[encoded data removed]",
            "text/plain": [
              "<Figure size 432x288 with 2 Axes>"
            ]
          },
          "metadata": {
            "tags": []
          }
        },
        {
          "output_type": "stream",
          "text": [
            "Accuracy Score ,  0.8279700119625224\n"
          ],
          "name": "stdout"
        }
      ]
    },
    {
      "cell_type": "markdown",
      "metadata": {
        "id": "4RMf-BrrCaQ5",
        "colab_type": "text"
      },
      "source": [
        "We have achieved an accurac score of 82%. We can further tune our SGDClassifier for different hyperparameters, also we can train our models with more number of features (> 5000) to get better accuracy"
      ]
    },
    {
      "cell_type": "code",
      "metadata": {
        "id": "oUb5ys278kBT",
        "colab_type": "code",
        "colab": {}
      },
      "source": [
        ""
      ],
      "execution_count": 0,
      "outputs": []
    }
  ]
}