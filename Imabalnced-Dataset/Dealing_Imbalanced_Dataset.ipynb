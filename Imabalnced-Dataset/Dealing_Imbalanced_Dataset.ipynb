{
 "cells": [
  {
   "cell_type": "markdown",
   "metadata": {},
   "source": [
    "# Balanced Data Set"
   ]
  },
  {
   "cell_type": "markdown",
   "metadata": {},
   "source": [
    "A dataset which has equal number of instances from each class is called balanced dataset. In the image below, i have used countplot on voice data to check if the dataset is balanced.\n",
    "<img src='Balanced_dataset_example.png'>\n",
    "\n",
    "There are equal number of data records (1584) for each class 'Male' and 'Female'."
   ]
  },
  {
   "cell_type": "markdown",
   "metadata": {},
   "source": [
    "# Imbalanced Dataset\n",
    "\n",
    "A dataset where count of data records from each class is not equal. Below example is taken from c redit card fraud detection dataset where number of 'Fraud' classes is 492 and number of 'No Fraud' classes is 284315 \n",
    "<img src='imbalanced_dataset.png'>"
   ]
  },
  {
   "cell_type": "markdown",
   "metadata": {},
   "source": [
    "# What is problem with Imbalanced Dataset?"
   ]
  },
  {
   "cell_type": "markdown",
   "metadata": {},
   "source": [
    "A machine learns from data on which it is being trained. Now if we train a machine learning model with 100 datapoints with class 1 and 10 datapoints with class 0, then it is obvious that the model learned more to classify datapoints with class 1. in that case there is very high probability that model will predict any future datapoints as class 1 than class 0. This is a serious problem with imbalanced dataset.We need to give a chance to model to learn both postive and negetive classes equally so that the prediction power of the model should not be biased."
   ]
  },
  {
   "cell_type": "markdown",
   "metadata": {},
   "source": [
    "# How to Deal with Imbalanced Data Set?"
   ]
  },
  {
   "cell_type": "markdown",
   "metadata": {},
   "source": [
    "Lets first import 'Credit_Card_Fraud_Transactions.csv' to run examples"
   ]
  },
  {
   "cell_type": "code",
   "execution_count": 21,
   "metadata": {},
   "outputs": [],
   "source": [
    "import pandas as pd\n",
    "import seaborn as sns\n",
    "import numpy as np"
   ]
  },
  {
   "cell_type": "code",
   "execution_count": 4,
   "metadata": {},
   "outputs": [
    {
     "name": "stdout",
     "output_type": "stream",
     "text": [
      "0    284315\n",
      "1       492\n",
      "Name: Class, dtype: int64\n"
     ]
    },
    {
     "data": {
      "text/plain": [
       "<matplotlib.axes._subplots.AxesSubplot at 0x1c83d81ad48>"
      ]
     },
     "execution_count": 4,
     "metadata": {},
     "output_type": "execute_result"
    },
    {
     "data": {
      "image/png": "[encoded data removed]",
      "text/plain": [
       "<Figure size 432x288 with 1 Axes>"
      ]
     },
     "metadata": {
      "needs_background": "light"
     },
     "output_type": "display_data"
    }
   ],
   "source": [
    "data = pd.read_csv('Credit_Card_Fraud_Transactions.csv')\n",
    "print(data.Class.value_counts())\n",
    "sns.countplot(data=data, x='Class')"
   ]
  },
  {
   "cell_type": "markdown",
   "metadata": {},
   "source": [
    "we can see the credit card dataset is extremly imbalanced dataset where it has 492 fraud classes and 284315 no fraud classes."
   ]
  },
  {
   "cell_type": "markdown",
   "metadata": {},
   "source": [
    "## A. Using module 'imblearn'  \n",
    "\n",
    "Python has a toolbox 'imblearn' to handle imbalanced data set. Before starting with imblearn let us understand two important concepts to be used by 'imblearn'.  \n",
    "\n",
    "**Majority Class**: The class with highest number of data points.  \n",
    "**Minority Class**: The class with lowest number of data points.\n",
    "\n",
    "**Undersampling**: \n",
    "<img src='Undersampling.png'>\n",
    "Datapoints belongs to majority class are being droped to adjust its count equal to count of datapoints from minority class.\n",
    "\n",
    "\n",
    "\n",
    "**Oversampling**: \n",
    "<img src='Oversampling.png'>\n",
    "Datapoints belongs to minority class are being duplicated to adjust its count equal to count of datapoints from majority class.\n",
    "\n",
    "Lets implement both this approach in python"
   ]
  },
  {
   "cell_type": "code",
   "execution_count": 66,
   "metadata": {},
   "outputs": [],
   "source": [
    "# First seperating features and target variable\n",
    "X = data.drop('Class', axis=1)\n",
    "Y = data.Class"
   ]
  },
  {
   "cell_type": "markdown",
   "metadata": {},
   "source": [
    "**RandomOverSampling**"
   ]
  },
  {
   "cell_type": "code",
   "execution_count": 38,
   "metadata": {},
   "outputs": [
    {
     "name": "stdout",
     "output_type": "stream",
     "text": [
      "After Oversampling \n",
      "\n",
      "Total number of datapoints:  568630\n",
      "Total number of fraud classes :  284315\n",
      "Total number of no fraud classes :  284315\n"
     ]
    },
    {
     "data": {
      "text/plain": [
       "<matplotlib.axes._subplots.AxesSubplot at 0x1c8036c80c8>"
      ]
     },
     "execution_count": 38,
     "metadata": {},
     "output_type": "execute_result"
    },
    {
     "data": {
      "image/png": "[encoded data removed]",
      "text/plain": [
       "<Figure size 432x288 with 1 Axes>"
      ]
     },
     "metadata": {
      "needs_background": "light"
     },
     "output_type": "display_data"
    }
   ],
   "source": [
    "from imblearn.over_sampling import RandomOverSampler\n",
    "ros = RandomOverSampler()\n",
    "sampled_X, sampled_Y = ros.fit_sample(X,Y)\n",
    "\n",
    "print('After Oversampling \\n')\n",
    "print('Total number of datapoints: ',sampled_Y.shape[0])\n",
    "df = pd.DataFrame(sampled_Y, columns=['Class'])\n",
    "print('Total number of fraud classes : ', df.Class.value_counts()[0])\n",
    "print('Total number of no fraud classes : ', df.Class.value_counts()[1])\n",
    "sns.countplot(data=df, x='Class')"
   ]
  },
  {
   "cell_type": "markdown",
   "metadata": {},
   "source": [
    "> Now the data set is balanced where it has equal number of positive and negetive classes. Note that number of datapoints has been increased to 568630 . because datapoints have been duplicated from minority classes.  \n",
    "**Drawback** of this approach is that too many redundant data have been added. thus increasing the size of the dataset."
   ]
  },
  {
   "cell_type": "markdown",
   "metadata": {},
   "source": [
    "**RandomUnderSampling**"
   ]
  },
  {
   "cell_type": "code",
   "execution_count": 43,
   "metadata": {
    "scrolled": false
   },
   "outputs": [
    {
     "name": "stdout",
     "output_type": "stream",
     "text": [
      "After Undersampling \n",
      "\n",
      "Total number of datapoints:  984\n",
      "Total number of fraud classes :  492\n",
      "Total number of no fraud classes :  492\n"
     ]
    },
    {
     "data": {
      "text/plain": [
       "<matplotlib.axes._subplots.AxesSubplot at 0x1c805852988>"
      ]
     },
     "execution_count": 43,
     "metadata": {},
     "output_type": "execute_result"
    },
    {
     "data": {
      "image/png": "[encoded data removed]",
      "text/plain": [
       "<Figure size 432x288 with 1 Axes>"
      ]
     },
     "metadata": {
      "needs_background": "light"
     },
     "output_type": "display_data"
    }
   ],
   "source": [
    "from imblearn.under_sampling import RandomUnderSampler\n",
    "ros = RandomUnderSampler()\n",
    "sampled_X, sampled_Y = ros.fit_sample(X,Y)\n",
    "\n",
    "print('After Undersampling \\n')\n",
    "print('Total number of datapoints: ',sampled_Y.shape[0])\n",
    "df = pd.DataFrame(sampled_Y, columns=['Class'])\n",
    "print('Total number of fraud classes : ', df.Class.value_counts()[0])\n",
    "print('Total number of no fraud classes : ', df.Class.value_counts()[1])\n",
    "sns.countplot(data=df, x='Class')"
   ]
  },
  {
   "cell_type": "markdown",
   "metadata": {},
   "source": [
    "> Data set is balanced now after RandomUnderSampling. Note that number of datapoints have been reduced to 984 . Because datapoints have been droped from majority class.  \n",
    "**Drawback** of this technique is we are loosing information out of the dataset because datapoints have been droped."
   ]
  },
  {
   "cell_type": "markdown",
   "metadata": {},
   "source": [
    "**Tomek Links**"
   ]
  },
  {
   "cell_type": "markdown",
   "metadata": {},
   "source": [
    "A Tomek’s link between two samples of different class x and y is defined such that for any sample z:\n",
    "\n",
    "$d(x, y) < d(x, z)$  and  $d(x, y) < d(y, z)$\n",
    "\n",
    "where d(.) is the distance between the two samples. In other words, a Tomek’s link exist if the two samples are the nearest neighbors of each other and are of opposite class.\n",
    "<img src='Tomek_Links.png'>   \n",
    "It is a Undersampling approach where samples from each tomek link is removed. We can select the 'sampling_strategy' to either 'auto' or 'all'. If **sampling_strategy='auto'** only the sample from the majority class will be removed. If **sampling_strategy='all'** both samples will be removed. Lets implement it."
   ]
  },
  {
   "cell_type": "code",
   "execution_count": 67,
   "metadata": {},
   "outputs": [],
   "source": [
    "from imblearn.under_sampling import TomekLinks\n",
    "tmk = TomekLinks()\n",
    "sampled_X , sampled_Y = tmk.fit_sample(X,Y)"
   ]
  },
  {
   "cell_type": "code",
   "execution_count": 63,
   "metadata": {},
   "outputs": [
    {
     "name": "stdout",
     "output_type": "stream",
     "text": [
      "After Undersampling \n",
      "\n",
      "Total number of datapoints:  284736\n",
      "Total number of fraud classes :  284244\n",
      "Total number of no fraud classes :  492\n"
     ]
    },
    {
     "data": {
      "text/plain": [
       "<matplotlib.axes._subplots.AxesSubplot at 0x1c803a9a448>"
      ]
     },
     "execution_count": 63,
     "metadata": {},
     "output_type": "execute_result"
    },
    {
     "data": {
      "image/png": "[encoded data removed]",
      "text/plain": [
       "<Figure size 432x288 with 1 Axes>"
      ]
     },
     "metadata": {
      "needs_background": "light"
     },
     "output_type": "display_data"
    }
   ],
   "source": [
    "print('After Undersampling \\n')\n",
    "print('Total number of datapoints: ',sampled_Y.shape[0])\n",
    "df = pd.DataFrame(sampled_Y, columns=['Class'])\n",
    "print('Total number of fraud classes : ', df.Class.value_counts()[0])\n",
    "print('Total number of no fraud classes : ', df.Class.value_counts()[1])\n",
    "sns.countplot(data=df, x='Class')"
   ]
  },
  {
   "cell_type": "markdown",
   "metadata": {},
   "source": [
    "**SMOTE (Synthetic Minority Oversampling TEchnique)**  \n",
    "\n",
    "While the RandomOverSampler is over-sampling by duplicating some of the original samples of the minority class, SMOTE generate new samples in by interpolation. However, the samples used to interpolate/generate new synthetic samples differ.\n",
    "Considering a sample $x_i$, a new sample $x_{new}$ will be generated considering its k neareast-neighbors.  \n",
    "\n",
    "For instance, the 3 nearest-neighbors are included in the blue circle as illustrated in the figure below. Then, one of these nearest-neighbors $x_{zi}$ is selected and a sample is generated as follows:\n",
    "    $x_{new}$ = $x_{i} + \\lambda \\times (x_{zi} - x_i)$  \n",
    "    \n",
    "where $\\lambda$ is a random number in the range [0, 1]. This interpolation will create a sample on the line between $x_{i}$ and $x_{zi}$ as illustrated in the image below:\n",
    "\n",
    "<img src='SMOTE.png'>  \n",
    "\n",
    "Lets see how to implement it,"
   ]
  },
  {
   "cell_type": "code",
   "execution_count": 73,
   "metadata": {
    "scrolled": false
   },
   "outputs": [
    {
     "name": "stdout",
     "output_type": "stream",
     "text": [
      "After Undersampling \n",
      "\n",
      "Total number of datapoints:  568630\n",
      "Total number of fraud classes :  284315\n",
      "Total number of no fraud classes :  284315\n"
     ]
    },
    {
     "data": {
      "text/plain": [
       "<matplotlib.axes._subplots.AxesSubplot at 0x1c803ab6ec8>"
      ]
     },
     "execution_count": 73,
     "metadata": {},
     "output_type": "execute_result"
    },
    {
     "data": {
      "image/png": "[encoded data removed]",
      "text/plain": [
       "<Figure size 432x288 with 1 Axes>"
      ]
     },
     "metadata": {
      "needs_background": "light"
     },
     "output_type": "display_data"
    }
   ],
   "source": [
    "from imblearn.over_sampling import SMOTE\n",
    "\n",
    "smote = SMOTE(ratio='minority')\n",
    "sampled_X, sampled_Y = smote.fit_sample(X, Y)\n",
    "\n",
    "print('After Undersampling \\n')\n",
    "print('Total number of datapoints: ',sampled_Y.shape[0])\n",
    "df = pd.DataFrame(sampled_Y, columns=['Class'])\n",
    "print('Total number of fraud classes : ', df.Class.value_counts()[0])\n",
    "print('Total number of no fraud classes : ', df.Class.value_counts()[1])\n",
    "sns.countplot(data=df, x='Class')"
   ]
  },
  {
   "cell_type": "markdown",
   "metadata": {},
   "source": [
    "## B. Using class_weight attribute of each algorithm  \n",
    "\n",
    "so far whatever approaches we have learned , has some drawbacks as explained before. Now we will see more authentic way of handling imbalnaced dataset.  \n",
    "\n",
    "sklearn provides an attribute **'class_weight'** in each algorithm's class constructor which can be set to handle imbalanced dataset. lets learn more about that.  \n",
    "\n",
    "from sklearn documentation,\n",
    "\n",
    "class_weight value can be either a dictionary object or 'balanced' or 'none'. Default value is 'none'.\n",
    "\n",
    "**when class_weight == 'balanced'**  \n",
    "it uses the values of y to automatically adjust weights inversely proportional to class frequencies in the input data as $n_{samples}$ / $(n_{classes}$ * $np.bincount(y))$.  \n"
   ]
  },
  {
   "cell_type": "code",
   "execution_count": 82,
   "metadata": {},
   "outputs": [
    {
     "name": "stdout",
     "output_type": "stream",
     "text": [
      "np.bincount(y) :  [284315    492]\n",
      "Number of Samples :  284807\n",
      "Number of Classes :  2\n",
      "Class  Weight :  [  0.50086524 289.43800813]\n"
     ]
    }
   ],
   "source": [
    "n_samples = X.shape[0]\n",
    "n_classes = data.Class.nunique()\n",
    "print('np.bincount(y) : ', np.bincount(Y))\n",
    "print('Number of Samples : ', n_samples)\n",
    "print('Number of Classes : ', n_classes)\n",
    "\n",
    "class_weight = X.shape[0] / ( n_classes * np.bincount(Y))\n",
    "print('Class  Weight : ', class_weight)"
   ]
  },
  {
   "cell_type": "markdown",
   "metadata": {},
   "source": [
    "> So we can see for the credit card transaction, class_weight is {'No Fraud' : 0.50, 'Fraud' : 289}. which means whenever the model learns 'Fraud' class it assigns more weitage of 289.43 and when model learns 'No Fraud' class i gives less weightage of 0.50 for it."
   ]
  },
  {
   "cell_type": "markdown",
   "metadata": {},
   "source": [
    "**when class_weight == dict pbject**  \n",
    "Dictionary to be given where keys are classes and values are corresponding class weights.If not given, all classes are supposed to have weight one."
   ]
  },
  {
   "cell_type": "code",
   "execution_count": 85,
   "metadata": {},
   "outputs": [],
   "source": [
    "from sklearn.linear_model import LogisticRegression\n",
    "clf = LogisticRegression(class_weight={0:0.5, 1:1})"
   ]
  },
  {
   "cell_type": "markdown",
   "metadata": {},
   "source": [
    "> In the above piece of code we passed class_weight to LogisticRegression classifier model. and the weight 0.5 is associated with Class 0('No Fraud') and weight 1 is associated with class 1('Fraud'). It means model would give more weightage to Class 1."
   ]
  },
  {
   "cell_type": "markdown",
   "metadata": {},
   "source": [
    "**when class_weight == none**  \n",
    "If None is given, the class weights will be uniform."
   ]
  }
 ],
 "metadata": {
  "kernelspec": {
   "display_name": "Python 3",
   "language": "python",
   "name": "python3"
  },
  "language_info": {
   "codemirror_mode": {
    "name": "ipython",
    "version": 3
   },
   "file_extension": ".py",
   "mimetype": "text/x-python",
   "name": "python",
   "nbconvert_exporter": "python",
   "pygments_lexer": "ipython3",
   "version": "3.7.4"
  }
 },
 "nbformat": 4,
 "nbformat_minor": 2
}
