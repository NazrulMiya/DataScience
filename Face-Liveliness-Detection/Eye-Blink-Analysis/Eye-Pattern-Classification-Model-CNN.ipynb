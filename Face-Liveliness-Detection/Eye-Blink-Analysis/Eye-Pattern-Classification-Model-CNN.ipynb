{
 "cells": [
  {
   "cell_type": "code",
   "execution_count": 1,
   "metadata": {},
   "outputs": [],
   "source": [
    "import tensorflow as tf\n",
    "import numpy as np\n",
    "import os\n",
    "import pandas as pd\n",
    "from PIL import Image\n",
    "import cv2 as cv"
   ]
  },
  {
   "cell_type": "code",
   "execution_count": 2,
   "metadata": {},
   "outputs": [],
   "source": [
    "from tensorflow.keras.preprocessing.image import ImageDataGenerator\n",
    "from tensorflow.keras.models import Sequential\n",
    "from tensorflow.keras.layers import Convolution2D, MaxPooling2D, Dense, Flatten, Activation, Dropout, BatchNormalization"
   ]
  },
  {
   "cell_type": "code",
   "execution_count": 3,
   "metadata": {},
   "outputs": [
    {
     "name": "stdout",
     "output_type": "stream",
     "text": [
      "Found 3200 images belonging to 2 classes.\n",
      "Found 800 images belonging to 2 classes.\n"
     ]
    }
   ],
   "source": [
    "train_data_generator = ImageDataGenerator(\n",
    "                                    zca_epsilon=1e-06,\n",
    "                                    rotation_range=0.1,\n",
    "                                    width_shift_range=0.2,\n",
    "                                    height_shift_range=0.2,\n",
    "                                    shear_range=0.2,\n",
    "                                    zoom_range=0.0,\n",
    "                                    channel_shift_range=0.0,\n",
    "                                    fill_mode='nearest',\n",
    "                                    cval=0.0,\n",
    "                                    horizontal_flip=True,\n",
    "                                    vertical_flip=True,\n",
    "                                    rescale=1./255,\n",
    "                                    preprocessing_function=None,\n",
    "                                    data_format=None,\n",
    "                                    validation_split=0.2,\n",
    "                                    dtype=None\n",
    "                        )\n",
    "train_directory='./Dataset/Eye_Images/train/'\n",
    "train_data = train_data_generator.flow_from_directory(train_directory,\n",
    "                                                    target_size=(64, 64),\n",
    "                                                    color_mode='rgb',\n",
    "                                                    batch_size=32,\n",
    "                                                    shuffle=True,\n",
    "                                                    seed=None,\n",
    "                                                    subset='training'\n",
    "                                                    )\n",
    "validation_data = train_data_generator.flow_from_directory(train_directory,\n",
    "                                                          target_size=(64,64),\n",
    "                                                           color_mode='rgb',\n",
    "                                                           batch_size=32,\n",
    "                                                           shuffle=True,\n",
    "                                                           subset='validation'\n",
    "                                                          )"
   ]
  },
  {
   "cell_type": "code",
   "execution_count": 4,
   "metadata": {},
   "outputs": [
    {
     "name": "stdout",
     "output_type": "stream",
     "text": [
      "Found 846 images belonging to 2 classes.\n",
      "846\n"
     ]
    }
   ],
   "source": [
    "test_data_generator = ImageDataGenerator(rescale=1./255)\n",
    "test_directory = './Dataset/Eye_Images/test/'\n",
    "test_data = test_data_generator.flow_from_directory(test_directory,\n",
    "                                                   target_size=(64,64),\n",
    "                                                   batch_size=32,\n",
    "                                                   class_mode='binary'\n",
    "                                                   )\n",
    "print(len(test_data.filenames))"
   ]
  },
  {
   "cell_type": "code",
   "execution_count": 31,
   "metadata": {},
   "outputs": [],
   "source": [
    "# Model : Test-Acc: 92%, Train-Acc:91%, Val-Acc: 90%\n",
    "model = Sequential()\n",
    "model.add(Convolution2D(filters=20, kernel_size= (5,5), strides=1, padding='same', input_shape=(64,64,3), activation='relu'))\n",
    "model.add(MaxPooling2D(pool_size=(2,2)))\n",
    "model.add(Convolution2D(filters=50, kernel_size=(5,5), strides=1, padding='same', activation='relu'))\n",
    "model.add(MaxPooling2D(pool_size=(2,2)))\n",
    "model.add(Flatten())\n",
    "model.add(Dropout(0.1))\n",
    "model.add(Dense(units=200, activation='relu'))\n",
    "model.add(Dense(units=128, activation='relu'))\n",
    "model.add(Dropout(0.1))\n",
    "model.add(Dense(units=64, activation='relu'))\n",
    "model.add(Dropout(0.1))\n",
    "model.add(Dense(units=2))\n",
    "model.add(Activation('sigmoid'))"
   ]
  },
  {
   "cell_type": "code",
   "execution_count": 32,
   "metadata": {},
   "outputs": [],
   "source": [
    "model.compile(loss='binary_crossentropy', optimizer='adam', metrics=['accuracy'])"
   ]
  },
  {
   "cell_type": "code",
   "execution_count": 33,
   "metadata": {},
   "outputs": [
    {
     "name": "stdout",
     "output_type": "stream",
     "text": [
      "WARNING:tensorflow:sample_weight modes were coerced from\n",
      "  ...\n",
      "    to  \n",
      "  ['...']\n",
      "WARNING:tensorflow:sample_weight modes were coerced from\n",
      "  ...\n",
      "    to  \n",
      "  ['...']\n",
      "Train for 100 steps, validate for 25 steps\n",
      "Epoch 1/20\n",
      "100/100 [==============================] - 42s 421ms/step - loss: 0.6845 - accuracy: 0.5405 - val_loss: 0.6644 - val_accuracy: 0.5181\n",
      "Epoch 2/20\n",
      "100/100 [==============================] - 38s 384ms/step - loss: 0.6284 - accuracy: 0.6480 - val_loss: 0.5419 - val_accuracy: 0.7550\n",
      "Epoch 3/20\n",
      "100/100 [==============================] - 38s 378ms/step - loss: 0.5918 - accuracy: 0.6859 - val_loss: 0.5325 - val_accuracy: 0.7644\n",
      "Epoch 4/20\n",
      "100/100 [==============================] - 37s 372ms/step - loss: 0.4966 - accuracy: 0.7647 - val_loss: 0.4020 - val_accuracy: 0.8144\n",
      "Epoch 5/20\n",
      "100/100 [==============================] - 38s 380ms/step - loss: 0.4450 - accuracy: 0.8052 - val_loss: 0.4049 - val_accuracy: 0.8369\n",
      "Epoch 6/20\n",
      "100/100 [==============================] - 38s 380ms/step - loss: 0.4045 - accuracy: 0.8234 - val_loss: 0.3560 - val_accuracy: 0.8512\n",
      "Epoch 7/20\n",
      "100/100 [==============================] - 34s 336ms/step - loss: 0.3752 - accuracy: 0.8356 - val_loss: 0.3445 - val_accuracy: 0.8569\n",
      "Epoch 8/20\n",
      "100/100 [==============================] - 34s 338ms/step - loss: 0.3526 - accuracy: 0.8431 - val_loss: 0.3260 - val_accuracy: 0.8606\n",
      "Epoch 9/20\n",
      "100/100 [==============================] - 34s 342ms/step - loss: 0.3428 - accuracy: 0.8539 - val_loss: 0.2704 - val_accuracy: 0.8813\n",
      "Epoch 10/20\n",
      "100/100 [==============================] - 34s 337ms/step - loss: 0.3090 - accuracy: 0.8741 - val_loss: 0.2746 - val_accuracy: 0.8900\n",
      "Epoch 11/20\n",
      "100/100 [==============================] - 34s 336ms/step - loss: 0.2931 - accuracy: 0.8766 - val_loss: 0.2333 - val_accuracy: 0.9044\n",
      "Epoch 12/20\n",
      "100/100 [==============================] - 34s 345ms/step - loss: 0.2835 - accuracy: 0.8833 - val_loss: 0.3026 - val_accuracy: 0.8700\n",
      "Epoch 13/20\n",
      "100/100 [==============================] - 34s 340ms/step - loss: 0.3081 - accuracy: 0.8756 - val_loss: 0.2488 - val_accuracy: 0.8981\n",
      "Epoch 14/20\n",
      "100/100 [==============================] - 35s 351ms/step - loss: 0.2628 - accuracy: 0.8942 - val_loss: 0.2409 - val_accuracy: 0.8975\n",
      "Epoch 15/20\n",
      "100/100 [==============================] - 34s 336ms/step - loss: 0.2853 - accuracy: 0.8827 - val_loss: 0.2732 - val_accuracy: 0.8888\n",
      "Epoch 16/20\n",
      "100/100 [==============================] - 35s 345ms/step - loss: 0.2653 - accuracy: 0.8923 - val_loss: 0.2520 - val_accuracy: 0.8931\n",
      "Epoch 17/20\n",
      "100/100 [==============================] - 34s 343ms/step - loss: 0.2619 - accuracy: 0.8852 - val_loss: 0.2278 - val_accuracy: 0.9044\n",
      "Epoch 18/20\n",
      "100/100 [==============================] - 38s 382ms/step - loss: 0.2315 - accuracy: 0.9075 - val_loss: 0.2436 - val_accuracy: 0.8994\n",
      "Epoch 19/20\n",
      "100/100 [==============================] - 47s 467ms/step - loss: 0.2412 - accuracy: 0.9006 - val_loss: 0.2621 - val_accuracy: 0.9000\n",
      "Epoch 20/20\n",
      "100/100 [==============================] - 41s 411ms/step - loss: 0.2337 - accuracy: 0.9092 - val_loss: 0.2395 - val_accuracy: 0.9162\n"
     ]
    }
   ],
   "source": [
    "history = model.fit(x=train_data, epochs=20, verbose=1, validation_data=validation_data)"
   ]
  },
  {
   "cell_type": "code",
   "execution_count": 47,
   "metadata": {},
   "outputs": [
    {
     "data": {
      "image/png": "[encoded data removed]",
      "text/plain": [
       "<Figure size 432x288 with 1 Axes>"
      ]
     },
     "metadata": {
      "needs_background": "light"
     },
     "output_type": "display_data"
    }
   ],
   "source": [
    "fig = plt.figure()\n",
    "ax = plt.subplot(111)\n",
    "ax.plot(history.history['loss'], label='Training-Loss')\n",
    "ax.plot(history.history['val_loss'], label='Validation-Loss')\n",
    "plt.title('Training Loss Vs Validation Loss')\n",
    "ax.legend()\n",
    "plt.show()"
   ]
  },
  {
   "cell_type": "code",
   "execution_count": 48,
   "metadata": {},
   "outputs": [
    {
     "data": {
      "image/png": "[encoded data removed]",
      "text/plain": [
       "<Figure size 432x288 with 1 Axes>"
      ]
     },
     "metadata": {
      "needs_background": "light"
     },
     "output_type": "display_data"
    }
   ],
   "source": [
    "fig = plt.figure()\n",
    "ax = plt.subplot(111)\n",
    "ax.plot(history.history['accuracy'], label='Training-Accuracy')\n",
    "ax.plot(history.history['val_accuracy'], label='Validation-Accuracy')\n",
    "plt.title('Training Accuracy Vs Validation Accuracy')\n",
    "ax.legend()\n",
    "plt.show()"
   ]
  },
  {
   "cell_type": "code",
   "execution_count": 50,
   "metadata": {},
   "outputs": [],
   "source": [
    "tf.keras.models.save_model(model, 'Lenet-5-CNN-20Epcoh-96Ac.h5')"
   ]
  },
  {
   "cell_type": "code",
   "execution_count": 49,
   "metadata": {},
   "outputs": [],
   "source": [
    "y_actuals = []\n",
    "y_preds = []\n",
    "for i in range(27):\n",
    "    #print(test_data[i][1])\n",
    "    y_actuals.extend(test_data[i][1])\n",
    "    y_preds.extend(model.predict(test_data[i][0]).argmax(axis=1))"
   ]
  },
  {
   "cell_type": "code",
   "execution_count": 37,
   "metadata": {},
   "outputs": [
    {
     "data": {
      "text/html": [
       "<div>\n",
       "<style scoped>\n",
       "    .dataframe tbody tr th:only-of-type {\n",
       "        vertical-align: middle;\n",
       "    }\n",
       "\n",
       "    .dataframe tbody tr th {\n",
       "        vertical-align: top;\n",
       "    }\n",
       "\n",
       "    .dataframe thead th {\n",
       "        text-align: right;\n",
       "    }\n",
       "</style>\n",
       "<table border=\"1\" class=\"dataframe\">\n",
       "  <thead>\n",
       "    <tr style=\"text-align: right;\">\n",
       "      <th></th>\n",
       "      <th>Actual</th>\n",
       "      <th>Predicted</th>\n",
       "    </tr>\n",
       "  </thead>\n",
       "  <tbody>\n",
       "    <tr>\n",
       "      <th>0</th>\n",
       "      <td>0.0</td>\n",
       "      <td>0</td>\n",
       "    </tr>\n",
       "    <tr>\n",
       "      <th>1</th>\n",
       "      <td>0.0</td>\n",
       "      <td>0</td>\n",
       "    </tr>\n",
       "    <tr>\n",
       "      <th>2</th>\n",
       "      <td>0.0</td>\n",
       "      <td>0</td>\n",
       "    </tr>\n",
       "    <tr>\n",
       "      <th>3</th>\n",
       "      <td>1.0</td>\n",
       "      <td>0</td>\n",
       "    </tr>\n",
       "    <tr>\n",
       "      <th>4</th>\n",
       "      <td>1.0</td>\n",
       "      <td>1</td>\n",
       "    </tr>\n",
       "    <tr>\n",
       "      <th>...</th>\n",
       "      <td>...</td>\n",
       "      <td>...</td>\n",
       "    </tr>\n",
       "    <tr>\n",
       "      <th>841</th>\n",
       "      <td>0.0</td>\n",
       "      <td>0</td>\n",
       "    </tr>\n",
       "    <tr>\n",
       "      <th>842</th>\n",
       "      <td>0.0</td>\n",
       "      <td>1</td>\n",
       "    </tr>\n",
       "    <tr>\n",
       "      <th>843</th>\n",
       "      <td>0.0</td>\n",
       "      <td>0</td>\n",
       "    </tr>\n",
       "    <tr>\n",
       "      <th>844</th>\n",
       "      <td>0.0</td>\n",
       "      <td>0</td>\n",
       "    </tr>\n",
       "    <tr>\n",
       "      <th>845</th>\n",
       "      <td>1.0</td>\n",
       "      <td>1</td>\n",
       "    </tr>\n",
       "  </tbody>\n",
       "</table>\n",
       "<p>846 rows × 2 columns</p>\n",
       "</div>"
      ],
      "text/plain": [
       "     Actual  Predicted\n",
       "0       0.0          0\n",
       "1       0.0          0\n",
       "2       0.0          0\n",
       "3       1.0          0\n",
       "4       1.0          1\n",
       "..      ...        ...\n",
       "841     0.0          0\n",
       "842     0.0          1\n",
       "843     0.0          0\n",
       "844     0.0          0\n",
       "845     1.0          1\n",
       "\n",
       "[846 rows x 2 columns]"
      ]
     },
     "execution_count": 37,
     "metadata": {},
     "output_type": "execute_result"
    }
   ],
   "source": [
    "pd.DataFrame({\n",
    "'Actual': y_actuals,\n",
    "'Predicted': y_preds\n",
    "})"
   ]
  },
  {
   "cell_type": "code",
   "execution_count": 51,
   "metadata": {},
   "outputs": [
    {
     "name": "stdout",
     "output_type": "stream",
     "text": [
      "              precision    recall  f1-score   support\n",
      "\n",
      "         0.0       0.89      0.93      0.91       384\n",
      "         1.0       0.94      0.90      0.92       462\n",
      "\n",
      "    accuracy                           0.92       846\n",
      "   macro avg       0.92      0.92      0.92       846\n",
      "weighted avg       0.92      0.92      0.92       846\n",
      "\n",
      "[[359  25]\n",
      " [ 44 418]]\n",
      "0.9184397163120568\n"
     ]
    }
   ],
   "source": [
    "from sklearn.metrics import classification_report, confusion_matrix, accuracy_score\n",
    "print(classification_report(y_actuals, y_preds))\n",
    "print(confusion_matrix(y_actuals, y_preds))\n",
    "print(accuracy_score(y_actuals, y_preds))"
   ]
  },
  {
   "cell_type": "code",
   "execution_count": 64,
   "metadata": {},
   "outputs": [
    {
     "data": {
      "text/plain": [
       "Text(0.5, 1, 'Confusion Matrix')"
      ]
     },
     "execution_count": 64,
     "metadata": {},
     "output_type": "execute_result"
    },
    {
     "data": {
      "image/png": "[encoded data removed]",
      "text/plain": [
       "<Figure size 432x288 with 1 Axes>"
      ]
     },
     "metadata": {
      "needs_background": "light"
     },
     "output_type": "display_data"
    }
   ],
   "source": [
    "import seaborn as sns\n",
    "sns.heatmap(confusion_matrix(y_actuals, y_preds), annot=True, fmt='d', cbar=False, cmap=\"YlGnBu\")\n",
    "plt.xlabel('Actual')\n",
    "plt.ylabel('Predicted')\n",
    "plt.title('Confusion Matrix')"
   ]
  },
  {
   "cell_type": "code",
   "execution_count": 71,
   "metadata": {},
   "outputs": [
    {
     "name": "stdout",
     "output_type": "stream",
     "text": [
      "              precision    recall  f1-score   support\n",
      "\n",
      "         0.0       0.89      0.93      0.91       384\n",
      "         1.0       0.94      0.90      0.92       462\n",
      "\n",
      "    accuracy                           0.92       846\n",
      "   macro avg       0.92      0.92      0.92       846\n",
      "weighted avg       0.92      0.92      0.92       846\n",
      "\n"
     ]
    }
   ],
   "source": [
    "print(classification_report(y_actuals, y_preds))"
   ]
  },
  {
   "cell_type": "code",
   "execution_count": 77,
   "metadata": {},
   "outputs": [
    {
     "data": {
      "text/plain": [
       "<matplotlib.axes._subplots.AxesSubplot at 0x1f0b42be2e8>"
      ]
     },
     "execution_count": 77,
     "metadata": {},
     "output_type": "execute_result"
    },
    {
     "data": {
      "image/png": "[encoded data removed]",
      "text/plain": [
       "<Figure size 432x288 with 2 Axes>"
      ]
     },
     "metadata": {
      "needs_background": "light"
     },
     "output_type": "display_data"
    }
   ],
   "source": [
    "df = {\n",
    "    'Precision' : [0.89,0.94],\n",
    "    'Recall': [0.93,0.90],\n",
    "    'F1-Score': [0.91,0.92]\n",
    "}\n",
    "sns.heatmap(pd.DataFrame(df), annot=True)"
   ]
  }
 ],
 "metadata": {
  "kernelspec": {
   "display_name": "Python 3",
   "language": "python",
   "name": "python3"
  },
  "language_info": {
   "codemirror_mode": {
    "name": "ipython",
    "version": 3
   },
   "file_extension": ".py",
   "mimetype": "text/x-python",
   "name": "python",
   "nbconvert_exporter": "python",
   "pygments_lexer": "ipython3",
   "version": "3.7.3"
  }
 },
 "nbformat": 4,
 "nbformat_minor": 4
}
