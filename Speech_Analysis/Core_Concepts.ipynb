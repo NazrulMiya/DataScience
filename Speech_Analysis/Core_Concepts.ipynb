{
 "cells": [
  {
   "cell_type": "markdown",
   "metadata": {},
   "source": [
    "### Unit Circle and Sin Wave"
   ]
  },
  {
   "cell_type": "markdown",
   "metadata": {},
   "source": [
    "<img src='Images/Unit_Circle.png' style='height:300px' align='right' >\n",
    "Unit circle is the circle of radius one centered at the origin (0, 0) in the Cartesian coordinate system. If (x, y) is a point on the unit circle's circumference, then |x| and |y| are the lengths of the legs of a right triangle whose hypotenuse has length 1. And by Pythagorean equation $x^2 + y^2 = 1$.\n",
    "\n",
    "Again , If (x, y) is a point on the unit circle, and if the ray from the origin (0, 0) to (x, y) makes an angle θ from the positive x-axis then ,\n",
    "\n",
    "$\\cos \\theta =x$ and $\\sin \\theta =y.$ hence $\\cos^2 \\theta + \\sin^2 \\theta = 1.$"
   ]
  },
  {
   "cell_type": "markdown",
   "metadata": {},
   "source": [
    "A uint circle can also be considered as unit complex numbers.\n",
    "<img src='Images\\Euler_formula.svg.png' align='right' style='width:200px'>\n",
    "A complex number is a number that can be expressed in the form $a + bi$, where a and b are real numbers, and i is a solution of the equation $x^2 = −1$. No real number satisfies this equation, hence $i$ is called imginary number.For the complex number $a + bi$, $a$ is called the real part, and $b$ is called the imaginary part. \n",
    "\n",
    "An important concept used in Fourier Transform is 'Euler's formula on complex number' where Euler's formula states that for any real number x:   <div style='font-size:20px'>$e^{ix}$ = $\\cos x + i \\sin x$</div>  \n",
    "\n",
    "Any point on unit circle can be represented as $z$ = $e^{ix}$"
   ]
  },
  {
   "cell_type": "markdown",
   "metadata": {},
   "source": [
    "<img src='Images/circle_to_sin_wave.png' style='height:150px' align='right'>\n",
    "If we rotate the line(unit radius) onto the unit circle's circumference through different angles ,we will get different y values . Those y values are nothing but $\\sin \\theta$ values for different $\\theta$ anagle. if we plot these $\\sin \\theta$ values we will get a **Sin Wave or Sinusoid**.\n"
   ]
  },
  {
   "cell_type": "markdown",
   "metadata": {},
   "source": [
    "Look at the animation (Special Thanks to Wiki for the animation) below where it represents how a sin function $y = \\sin \\theta$ is graphed from the y value of a point rotating by an angle $\\theta$ on unit circle. This graph is also known as **Sinusoid**\n",
    "<img src='Images\\Circle_cos_sin.gif'>"
   ]
  },
  {
   "cell_type": "markdown",
   "metadata": {},
   "source": [
    "## Sound      \n",
    "\n",
    "\n",
    "<img src='Images/Elements_of_Sound_jpg.jpg' align='right' style='width:200px'>\n",
    "Sound is a vibration that propagates as an acoustic wave, through a transmission medium such as a gas, liquid or solid. sound is readily dividable into two simple elements: pressure and time. These fundamental elements form the basis of all sound waves."
   ]
  },
  {
   "cell_type": "markdown",
   "metadata": {},
   "source": [
    "Soumd has general properties such as -   \n",
    "**Amplitude :**  The height of the wave. It is the maximum absolute value of disbursement from the mean value.\n",
    "<img src='Images/Amplitude-of-sound.png' style='width:200px'> "
   ]
  },
  {
   "cell_type": "markdown",
   "metadata": {},
   "source": [
    "**Period :**  If an event occurs repeatedly then the event is said to be periodic. The time taken by the periodic event to repeat itself is known as the period. We have seen how from unit circle a sin wave is formed. so The time taken to complete one complete cycle of unit circle is known as period.    \n",
    "\n",
    "**Frequency :** The number of occurences of a repeating event per unit of time is known as frequency. It is measued in Hertz (Hz). \n",
    "<img src='Images/Frequency-of-Sound.png' style='width:220px'>"
   ]
  },
  {
   "cell_type": "markdown",
   "metadata": {},
   "source": [
    "**Sampling :** is a technique to convert a continuous signal or sound wave to a discrete time signal or sequence of samples. A sample is a value or set of values of amplitude  and it contains information about the amplitudes of a wave over a period of time.A commonly seen unit of sampling rate is Hz, which stands for Hertz and means \"samples per second\". As an example, 48 kHz is 48,000 samples per second. "
   ]
  },
  {
   "cell_type": "markdown",
   "metadata": {},
   "source": [
    "<img src='Images\\Sampling.png' style='width:600px' align='right'>\n",
    "I have tried to draw plot of sin waves where x axis is the time and y axis is the amplitude of the sound wave. In the ploted wave sound has completed two cycle in 1 second of time  and 50 samples have been collected in 1 seconds of time.    \n",
    "\n",
    "Hence,  \n",
    "Time (t) = 1 Sec  \n",
    "Frequence (f) = 2  \n",
    "Sampling Rate (fs) = 50 samples per second = 50 Hz  \n"
   ]
  },
  {
   "cell_type": "markdown",
   "metadata": {},
   "source": [
    "<img src='Images/Sine_waves_different_frequencies.svg.png' align='right' style='width:300px'>\n",
    "A complex sound is represented as a combinition of multiple sinusoidal wave  as shown in the images.\n",
    "<img src='Images/Component_Sound_Waves.png' align='left' style='width:600px'>"
   ]
  },
  {
   "cell_type": "markdown",
   "metadata": {},
   "source": [
    "### Fourier Transformation"
   ]
  },
  {
   "cell_type": "markdown",
   "metadata": {},
   "source": [
    "The Fourier transform (FT) decomposes a function of time (a signal) into its constituent frequencies. A sound wave is represented as a function of time $f(t)$ . Fourier transformation helps to transform the function of time $f(t)$ into a function of its frequencies.   \n",
    "\n",
    "The Fourier transform of a function of time is itself a complex-valued function of frequency, whose magnitude (modulus) represents the amount of that frequency present in the original function, and whose argument is the phase offset of the basic sinusoid in that frequency."
   ]
  },
  {
   "cell_type": "markdown",
   "metadata": {},
   "source": [
    "The formula of fouriour transformation is ,  \n",
    "<div align='center' style='font-size:20px'>\n",
    "$\\int_{-\\infty}^{\\infty} g(t). e^{(-2\\pi ift)} dt $\n",
    "</div>\n",
    "\n",
    "where,   \n",
    "$g(t)$ is a function of time.(A signal represented as a function time),  \n",
    "$f$ is the frequency of signal wave.  \n",
    "$i$ is the imaginary number in the complex plane."
   ]
  },
  {
   "cell_type": "markdown",
   "metadata": {},
   "source": [
    "Let us understand what is $-2 \\pi f t$ in the equation is. We know a unit circle can be represented on a complex plane where a point $z$ onto the unit circle circumference is represented as $z = $$e^{i.t}$ where $i$ is the imaginary number in the complex plane and $t$ is the time. This $e^{i.t}$ is the rotating point which can rotates through the circle's circumference. One complete rotation of the point $z$ is equal to $2\\pi$. If the signal wave has $f$ frequencies per unit time then the 1 roration of the unit circle becomes $2 \\pi f t$. negetive sign indicates that the rotation of point $Z$ is anticlockwise."
   ]
  },
  {
   "cell_type": "markdown",
   "metadata": {},
   "source": [
    "Suppose we have a signal $g(t)$ represented as a function of time, when the time function is multiplied with the rotationg factor $ e^{(-2\\pi ift)}$ , the signal gets winded around the circle. "
   ]
  },
  {
   "cell_type": "markdown",
   "metadata": {},
   "source": [
    "### Fourier Series and Discrete Fourier Transformation"
   ]
  },
  {
   "cell_type": "markdown",
   "metadata": {},
   "source": [
    "<img src='Images/Sine_waves_different_frequencies.svg.png' align='right' style='width:300px'>\n",
    "A Sound wave or signal is composed of multiple component sinusoids. In the right image red sound wave is composed of 4 component sinusoids of different frequencies.\n",
    "\n",
    "A Fourier Series is a periodic function composed of harmonically related sinusoids, combined by a weighted summation. The Red signal in the image is a Fourier series composed of 4 sinusoids of different frequencies.   \n",
    "\n",
    "It can be denoted as $f(t)$ = $\\frac{1}{2} a_0 \\sum_{k=1}^{\\infty} a_k \\cos(2 \\pi k t) + b_k \\sin(2 \\pi k t)$ where k is frequency , t is time "
   ]
  },
  {
   "cell_type": "markdown",
   "metadata": {},
   "source": [
    "<img src='Images/FS_01.png' align='right' style='width:200px'>\n",
    "A sound wave or signal is represented in time domain (as a function of time) where points on x axis represents times and points on y axis represents amplitude of the signal.  \n",
    "\n",
    "We have to convert these representation in frequency domain (as a function of frequecy) where points on x axis represents frequency bins and points  on y axis represents amplitude.\n",
    "\n",
    "Fourier Series and Fourier transformation helps to a chieve the conversion from time domain to frequency domain.  "
   ]
  },
  {
   "cell_type": "markdown",
   "metadata": {},
   "source": [
    "If the signal is a periodic function of time then first the signal has to be decomposed back into sinusoid components which means we have to find the constants $a_k$, $b_k$ in the equation for different frequency bins so that we get different sinusoids at different frequecies. Question is how do we find the coeficients in the equation? Fourier Transformation helps to find the coeficients.  \n",
    "We have seen the fourier transformation of a continous periodic function of time is calculated as $\\int_{-\\infty}^{\\infty} g(t). e^{(-2\\pi ift)} dt $ where the part $e^{(-2\\pi ift)}$ in the equation is sinusoids in complex plane. The complex exponential form of sinusoids have been used in the fourier transformation because it is easy in calculating integral of exponential. The $-\\infty$ and $\\infty$ in the integral part of the equation represents time in sec in infinty interval for a continuous signal. But in real time we do not work on continous signal. We devide a continous signal into short signals (frames) within a finite time interval. We take finite sample from a continuous signal within finite time frame. So we take finite discrete sample points from the signal for transoforming it into frequency domain. This is where we need to use **Discrete Fourier Transformation (DFT)**.  \n",
    "\n",
    "Fourier transformation for ,\n",
    "<div  style='font-size:15px'>\n",
    "Continous Periodic Signal - $f(freq) = $ $\\int_{-\\infty}^{\\infty} g(t). e^{(-2\\pi ift)} dt $    \n",
    "    \n",
    "Discrete Signal - $X_k = \\sum_{n=0}^{N-1} x_n . e^{(-2\\pi i \\frac{fn}{N})}$\n",
    " \n",
    "Where \n",
    "N = Number of samples taken from continous signal.   \n",
    "\n",
    "n = each sample point within a window of [0 , N-1]   \n",
    "f = frequency   \n",
    "t = time  \n",
    "i = imaginary unit in the complex plane  \n",
    "$X_k$ = kth frequency bin\n",
    "</div>   \n",
    "\n",
    "Lets go deep in the fourier transformation equation for discrete signal."
   ]
  },
  {
   "cell_type": "markdown",
   "metadata": {},
   "source": [
    "We know the equation is  \n",
    "<div  astyle='font-size:15px'>\n",
    "$X_k = \\sum_{n=0}^{N-1} x_n . e^{(-2\\pi i \\frac{fn}{N})}$     \n",
    "\n",
    "$X_k = \\sum_{n=0}^{N-1} x_n . e^{(-i. b_n)}$ where $b_n = 2\\pi \\frac{fn}{N}$    \n",
    "\n",
    "$X_k = x_0 e^{-b_0 i} + x_1 e^{-b_1 i} + .......... + x_n e^{-b_{N-1} i}$     \n",
    "\n",
    "By Euler's formula $e^ix = \\cos x + i \\sin x$, hence  \n",
    "$X_k = x_0 [\\cos(-b_0) + i \\sin(-b_0)] + ........ + x_n [\\cos(-b_{N-1}) + i \\sin(-b_{N-1})]$    \n",
    "\n",
    "When we sum everything up we get $X_k = A_k + i B_k$ where $A_k$  and $B_k$ are the coeficients in the fourier series equation.\n",
    "</div>"
   ]
  },
  {
   "cell_type": "markdown",
   "metadata": {},
   "source": [
    "So finally we get constant complex number ($A_k + i B_k$)from the fourier transformation of discrete signal. Next we need to understand how this complex number is useful for transofmrtion into frequency domain?"
   ]
  },
  {
   "cell_type": "markdown",
   "metadata": {},
   "source": [
    "<img src='Images/FS_02.png' align='right' style='width:400px'> \n",
    "A complex number in the form $A_k + i B_k$ can be represented in a complex plane as shown in the right image. and the magnitude of the point $(A_k, B_k)$ is the distance of the point from real axis. Angle $\\theta$ is the rotation angale of the point.  \n",
    "\n",
    "As showed in the image the magnitude corresponds to the height of the signal wave from real axis (Amplitude) at a particular frequency bin. And angle $\\theta$ represents the phase shift of the sinusoid at that frequency bin. "
   ]
  },
  {
   "cell_type": "markdown",
   "metadata": {},
   "source": [
    "<img src='Images/FS_03.png' align='right' style='width:400px'> \n",
    "Lets understand the transformation from a simple example.  Consider we have a simple 1Hz sinusoid represented in the time domain where the frequency of the wave is 1Hz, Amplitude of the wave is 1, sampling rate is 8Hz (8 samples per time sec), number of samples taken is 8. Y-coordinates of each sample point is also showed in the image. \n",
    "\n",
    "task is to represent this sinusoid into frequency domain by using Fourier Transformation concept for discrete signal wave. Means the transformed representation should have frequency bins in x-axis and amplitude should be in y-axis."
   ]
  },
  {
   "cell_type": "markdown",
   "metadata": {},
   "source": [
    "The transformation of the above input sine wave into frequency domain is depicted in the below image,\n",
    "<img src='Images/FS_04.png' align='left' style='width:800px'>\n",
    "<img src='Images/FS_05.png' align='left' style='width:800px'>\n",
    "<img src='Images/FS_06.png' align='left' style='width:800px'>"
   ]
  },
  {
   "cell_type": "markdown",
   "metadata": {},
   "source": [
    "### Mel Scale"
   ]
  },
  {
   "cell_type": "markdown",
   "metadata": {},
   "source": [
    "Consider two sounds with two different ferquency . One sound of 100Hz and another sound of 200Hz. Play the sounds and try to stick the sounds  in your memory. There is preceptual difference between these two sounds which is of 100Hz. Now lets do the experiment with other two sounds one with 1000Hz other with 1100Hz OR one sound with 10000Hz and other sound with 10100Hz. Although the preceptual difference betweeb all these pair of sounds are 100Hz but we will graduatly loose to capture the distance by hearing.\n",
    "\n",
    "Mel scale try to capture these distances from low to high frequency. Mel scale is a perceptual scale of pitches of sounds judged by listeners and to be equal in distance from one another. \n",
    "\n",
    "A popular formula to convert frequency **f** hertz into **m** mel scale,  \n",
    "<div align='center' style='font-size:20px'>$m = $$2595 \\log_{10} (1 + \\frac{f}{700})$</div>   \n",
    "\n",
    "<img src='Images/Mel_Scale.png' style='width:400px' align='left'>  \n",
    "\n",
    "A question may arise how 700 used in the formual and what is the purpose behind the number 2595? General form of this formula is  <div style='font-size:20px'>$m = $$C \\log_{10} (1 + \\frac{f}{f_0})$</div>  where $f_0$ is the corner frequency, during the experiment it has been found that below the frequency $f_0$ mel scale changes approximately linearly with frequency and above frequency $f_0$ mel scale changes logarithmically. Look at the Plots of pitch mel scale versus Hertz scale (source Wikipedia) in the left  where mel scale changes linearly with frequency for frequency upto approx 500 Hz. And it becomes non linear curve for frequency above approx 600Hz. So the corner frequency $f_0$ chosen somewhere between 600Hz and 1000Hz. and the formula stated above chosen 700Hz as the corner frequency.  \n",
    "\n",
    "The constant C in the general equation is normally chosen such that 1000Hz correspond to 1000 mel:  Hence\n",
    " $C = $$\\frac{1000}{\\log_{10}(1 + \\frac{f}{f_0})}$. If we take $f_0 = 700$ then we get $C = 2595$.  \n",
    " \n",
    "From wiki, Converted Mel scale for different frequency values is depicted in the table below,  \n",
    "<img src='Images/Mel_Scale_Hz.png' style='width:400px' align='left'>\n"
   ]
  },
  {
   "cell_type": "code",
   "execution_count": 253,
   "metadata": {
    "scrolled": true
   },
   "outputs": [
    {
     "name": "stderr",
     "output_type": "stream",
     "text": [
      "C:\\Users\\NMiyaX0106539\\AppData\\Local\\Continuum\\anaconda3\\lib\\site-packages\\ipykernel_launcher.py:8: UserWarning: In Matplotlib 3.3 individual lines on a stem plot will be added as a LineCollection instead of individual lines. This significantly improves the performance of a stem plot. To remove this warning and switch to the new behaviour, set the \"use_line_collection\" keyword argument to True.\n",
      "  \n"
     ]
    },
    {
     "data": {
      "image/png": "[encoded data removed]",
      "text/plain": [
       "<Figure size 432x288 with 1 Axes>"
      ]
     },
     "metadata": {
      "needs_background": "light"
     },
     "output_type": "display_data"
    }
   ],
   "source": [
    "freq = 1 \n",
    "pi = np.pi\n",
    "sampling_rate = 8\n",
    "x2 = np.arange(sampling_rate)\n",
    "t2 = (x2 / sampling_rate)\n",
    "y2 = np.sin(2 * pi * freq * t2)\n",
    "\n",
    "plt.stem(t2,y2, 'r-o', )\n",
    "\n",
    "plt.xlabel('Time')\n",
    "plt.ylabel('Amplitude')\n",
    "plt.xticks([0,1])\n",
    "plt.yticks([-1, 0 , 1 ])\n",
    "plt.title('Freq = 1 Hz, SamplingRate = 8Hz, Amplitude = 1, t = 1 Sec')\n",
    "\n",
    "plt.show()"
   ]
  },
  {
   "cell_type": "code",
   "execution_count": 254,
   "metadata": {
    "scrolled": true
   },
   "outputs": [
    {
     "data": {
      "text/plain": [
       "array([ 0.   ,  0.707,  1.   ,  0.707,  0.   , -0.707, -1.   , -0.707])"
      ]
     },
     "execution_count": 254,
     "metadata": {},
     "output_type": "execute_result"
    }
   ],
   "source": [
    "from scipy.fftpack import fft\n",
    "import math \n",
    "np.round(y2,3)"
   ]
  },
  {
   "cell_type": "code",
   "execution_count": 276,
   "metadata": {},
   "outputs": [
    {
     "data": {
      "text/plain": [
       "array([ 0.+0.j, -0.-4.j,  0.-0.j,  0.+0.j,  0.+0.j,  0.-0.j,  0.+0.j,\n",
       "       -0.+4.j])"
      ]
     },
     "execution_count": 276,
     "metadata": {},
     "output_type": "execute_result"
    }
   ],
   "source": [
    "amp= np.round(fft(y2))\n",
    "amp"
   ]
  },
  {
   "cell_type": "code",
   "execution_count": 286,
   "metadata": {},
   "outputs": [
    {
     "data": {
      "text/plain": [
       "array([0, 1, 2, 3])"
      ]
     },
     "execution_count": 286,
     "metadata": {},
     "output_type": "execute_result"
    }
   ],
   "source": [
    "N =8\n",
    "freq = np.arange(0,N//2)\n",
    "freq"
   ]
  },
  {
   "cell_type": "code",
   "execution_count": 299,
   "metadata": {},
   "outputs": [
    {
     "data": {
      "text/plain": [
       "[<matplotlib.lines.Line2D at 0x216bffa6348>]"
      ]
     },
     "execution_count": 299,
     "metadata": {},
     "output_type": "execute_result"
    },
    {
     "data": {
      "image/png": "[encoded data removed]",
      "text/plain": [
       "<Figure size 432x288 with 1 Axes>"
      ]
     },
     "metadata": {
      "needs_background": "light"
     },
     "output_type": "display_data"
    }
   ],
   "source": [
    "N = 8\n",
    "plt.plot(freq, (1/N)*(2 * np.abs(amp[:N//2])),'r--')"
   ]
  },
  {
   "cell_type": "code",
   "execution_count": 56,
   "metadata": {},
   "outputs": [
    {
     "ename": "ModuleNotFoundError",
     "evalue": "No module named 'simpleaudio'",
     "output_type": "error",
     "traceback": [
      "\u001b[1;31m---------------------------------------------------------------------------\u001b[0m",
      "\u001b[1;31mModuleNotFoundError\u001b[0m                       Traceback (most recent call last)",
      "\u001b[1;32m<ipython-input-56-2f269ea8ecc2>\u001b[0m in \u001b[0;36m<module>\u001b[1;34m\u001b[0m\n\u001b[0;32m      1\u001b[0m \u001b[1;32mimport\u001b[0m \u001b[0mnumpy\u001b[0m \u001b[1;32mas\u001b[0m \u001b[0mnp\u001b[0m\u001b[1;33m\u001b[0m\u001b[1;33m\u001b[0m\u001b[0m\n\u001b[1;32m----> 2\u001b[1;33m \u001b[1;32mimport\u001b[0m \u001b[0msimpleaudio\u001b[0m \u001b[1;32mas\u001b[0m \u001b[0msa\u001b[0m\u001b[1;33m\u001b[0m\u001b[1;33m\u001b[0m\u001b[0m\n\u001b[0m\u001b[0;32m      3\u001b[0m \u001b[1;33m\u001b[0m\u001b[0m\n\u001b[0;32m      4\u001b[0m \u001b[0mfrequency\u001b[0m \u001b[1;33m=\u001b[0m \u001b[1;36m440\u001b[0m  \u001b[1;31m# Our played note will be 440 Hz\u001b[0m\u001b[1;33m\u001b[0m\u001b[1;33m\u001b[0m\u001b[0m\n\u001b[0;32m      5\u001b[0m \u001b[0mfs\u001b[0m \u001b[1;33m=\u001b[0m \u001b[1;36m44100\u001b[0m  \u001b[1;31m# 44100 samples per second\u001b[0m\u001b[1;33m\u001b[0m\u001b[1;33m\u001b[0m\u001b[0m\n",
      "\u001b[1;31mModuleNotFoundError\u001b[0m: No module named 'simpleaudio'"
     ]
    }
   ],
   "source": [
    "import numpy as np\n",
    "import simpleaudio as sa\n",
    "\n",
    "frequency = 440  # Our played note will be 440 Hz\n",
    "fs = 44100  # 44100 samples per second\n",
    "seconds = 3  # Note duration of 3 seconds\n",
    "\n",
    "# Generate array with seconds*sample_rate steps, ranging between 0 and seconds\n",
    "t = np.linspace(0, seconds, seconds * fs, False)\n",
    "\n",
    "# Generate a 440 Hz sine wave\n",
    "note = np.sin(frequency * t * 2 * np.pi)\n",
    "\n",
    "# Ensure that highest value is in 16-bit range\n",
    "audio = note * (2**15 - 1) / np.max(np.abs(note))\n",
    "# Convert to 16-bit data\n",
    "audio = audio.astype(np.int16)\n",
    "\n",
    "# Start playback\n",
    "play_obj = sa.play_buffer(audio, 1, 2, fs)\n",
    "\n",
    "# Wait for playback to finish before exiting\n",
    "play_obj.wait_done()"
   ]
  }
 ],
 "metadata": {
  "kernelspec": {
   "display_name": "Python 3",
   "language": "python",
   "name": "python3"
  },
  "language_info": {
   "codemirror_mode": {
    "name": "ipython",
    "version": 3
   },
   "file_extension": ".py",
   "mimetype": "text/x-python",
   "name": "python",
   "nbconvert_exporter": "python",
   "pygments_lexer": "ipython3",
   "version": "3.7.4"
  }
 },
 "nbformat": 4,
 "nbformat_minor": 4
}
