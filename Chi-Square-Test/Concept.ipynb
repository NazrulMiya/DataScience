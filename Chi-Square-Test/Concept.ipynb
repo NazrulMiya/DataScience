{
 "cells": [
  {
   "cell_type": "markdown",
   "metadata": {},
   "source": [
    "# Chi-Square Distribution"
   ]
  },
  {
   "cell_type": "markdown",
   "metadata": {},
   "source": [
    "The chi-square distribution **$\\chi 2$-distribution** with k degrees of freedom is the distribution of a sum of the squares of k independent standard normal random variables.   \n",
    "\n",
    "Suppose we have a standard normal independent variable $Z_{1}$ then sum of its suqare **$Q = Z_{1}^{2}$** is distributed according to the chi-square distribution with **1 degree of freedom.**  \n",
    "\n",
    "If we have two standard normal independent variables $Z_{1}$ and $Z_{2}$ then sum of its suqare **$Q = \\sum_{i = 1}^{2}Z_{i}^{2}$** is distributed according to the chi-square distribution with **2 degree of freedom.**  \n",
    "\n",
    "Similarly when we have K standard normal independent variables $Z_{1}, Z_{2}, ...... , Z_{k}$ then sum of its suqare **$Q = Z_{i}^{2}$** is distributed according to the chi-square distribution with **k degree of freedom.**  .\n",
    "\n",
    "**Degree of Freedom**  a positive integer k that specifies the number of degrees of freedom (The number of Independent variables)."
   ]
  },
  {
   "cell_type": "markdown",
   "metadata": {},
   "source": [
    "Chi-Square distribution is extremly used in Hypothesis Testing. as per **Central Limit Theorem** as the sample size increases the sampling distribution approaches towards normal distribution. Chi-Square distribution is the square of a standard normal distribution. So wherever a normal distribution could be used for a hypothesis test, a chi-square distribution could be used."
   ]
  },
  {
   "cell_type": "markdown",
   "metadata": {},
   "source": [
    "Lets look at the **Probability Density Function (PDF)** of a Chi-Square distribution and examine how to interpret it ,  \n",
    "<img src='Chi-Square-PDF.png'>  \n",
    "\n",
    "Y-Axis is the PDF value and X-Axis is the Chi-Square value.  \n",
    "The black curve is the PDF of Chi-Square distribution of 1 standard normal independent variable(K=1).\n",
    "The blue curve is the PDF of Chi-Square distribution of 2 standard normal independent variables(K=2) and so on.  \n",
    "\n",
    "If it is needed to check **what is the probability of Chi-Square value with 2 - Degree of freedom is greater than 2.41?** We can find out the answer from **'Table of χ2 values vs p-values'**.  The table below gives a number of p-values matching to $ \\chi ^{2}$ for the first 10 degrees of freedom.\n",
    "<img src='Chi-Square-Table.png'>  \n",
    "\n",
    "\n",
    "So our question was **what is the probability of Chi-Square value with 2 - Degree of freedom is greater than 2.41?**  Now lets look at the table where K=2, and the value = 2.41. We can then find p-value/probability as 0.30 (30%). It means that there is 30 % chance that the Chi-Square value would be greater than 2.41 with a degree of freedeom of 2.  \n",
    "\n",
    "We will learn how to calculate 'Chi-Square' value in a few minutes."
   ]
  },
  {
   "cell_type": "markdown",
   "metadata": {},
   "source": [
    "## Chi - Square Test of Goodness of Fit"
   ]
  },
  {
   "cell_type": "markdown",
   "metadata": {},
   "source": [
    "In realworld statistics, measuring whole population is impractical. Hence samples are collected from population such that sample data represents whole population very well. Goodness of Fit test measures how well sample data taken from propulation represents or fits a distribution from the population. In other words this goodness of fit test measures if sample data represents the data we expected to find in actual population.  One of the Goodness of Fit test is **Chi Square Test**.  Lets understand this with an example.  \n",
    "\n",
    "Suppose a Store taken franschise of KFC. Now the store owner assumes that 10% of the store customers visits on Monday, 10% on Tuesday, 15% on Wedness day, 20% on Thursday, 30% on Friday and 15% on Saturday.  Now the question is **'If the store owner's assumption is correct about the customer distribution?'.**  It is not possible to count customers through out the month. What we did is counted customers on 1st week of a month and we got below counts of customers on each day ,\n",
    "\n",
    "| |Monday|Tuesday|Wednessday|Thursday|Friday|Saturday|Total \n",
    "|-----|-----|-----|-----|-----|-----|-----|-----|\n",
    "|Observed Counts | 30|14|34|45|57|20|200\n",
    "\n",
    "We will now perform **Hypothesis Testing : Chi-Square Test** to measure how well observed data (sample data) fits actual data in population (what owner is expecting)"
   ]
  },
  {
   "cell_type": "markdown",
   "metadata": {},
   "source": [
    "First step in any Hypothesis Testing is to state **Null Hypothesis ($H_{0}$) and Alternative Hypothesis ($H_{1}$)**. In this example ,   \n",
    "\n",
    "**$H_{0}$**: Owner's Assumption about the customer distribution is True.\n",
    "\n",
    "**$H_{1}$**: Owner's Assumption about the customer distribution is False.\n",
    "\n",
    "We have to find if Null hypothesis can be accpetable or rejectable. If after the test it is found that null hypothesis is acceptable which means owner's assumption is true otherwise his assumption is false."
   ]
  },
  {
   "cell_type": "markdown",
   "metadata": {},
   "source": [
    "Next Step is to draw **Contingency Table** with Expected and Observed values as shown below,  \n",
    "\n",
    "| |Monday|Tuesday|Wednessday|Thursday|Friday|Saturday|Total| \n",
    "|-----|-----|-----|-----|-----|-----|-----|-----|\n",
    "|Expected (%)|10|10|15|20|30|15|100%|\n",
    "|Expected Counts|20|20|30|40|60|30|200|\n",
    "|Observed Counts | 30|14|34|45|57|20|200|\n"
   ]
  },
  {
   "cell_type": "markdown",
   "metadata": {},
   "source": [
    "Next Step is to **Calculating Chi-Square ($\\chi^{2}$) value**.\n",
    "<div style=\"font-size: 25px\" align=\"center\">          \n",
    "        $\\chi^{2}$ =  $\\sum \\frac{(O_{v} - E_{v})^2} {E_{i}}$ \n",
    "</div>\n",
    "Where $O_{v}$ is Observed Value and $E_{v}$ is expected value  \n",
    "\n",
    "Lets calculate,\n",
    "\n",
    "| |Monday|Tuesday|Wednessday|Thursday|Fri day|Saturday|    Total Value  | \n",
    "|-----|-----|-----|-----|-----|-----|-----|-----|\n",
    "|Expected (%)|10|10|15|20|30|15|100%|\n",
    "|Expected Counts ($E_{v}$)|20|20|30|40|60|30|200|\n",
    "|Observed Counts($O_{v}$) | 30|14|34|45|57|20|200|\n",
    "|Chi-Squared|$\\frac {(30 - 20)^2}{20}$|$\\frac {(14 - 20)^2}{20}$|$\\frac {(34 - 30)^2}{30}$|$\\frac {(45 - 40)^2}{40}$|$\\frac {(57 - 60)^2}{60}$|$\\frac {(20 - 30)^2}{30}$|$\\chi ^{2}=11.44$|\n",
    "\n",
    "So $\\chi ^{2}$ value is 11.44"
   ]
  },
  {
   "cell_type": "markdown",
   "metadata": {},
   "source": [
    "**Degree of Freedom is (6 - 1)= 5.** (You must be wondering why 5 not 6. lets understand this with a small example. Suppose we have three categories Male, Feamle and Othres in random variable 'Gender'. Now if we know if a person is neither Male nor Others then we can understand the gender is Female. Similarly if we know the gender of the person is neither 'Male' nor Female then gender must be 'Others'. We can see out of three categories any of two categories helps us to find the gender of the person. All three categories are not required to determine the gender. This is the reason we do minus 1 from number of categories in a discrete random variable to calculate its degree of freedom)"
   ]
  },
  {
   "cell_type": "markdown",
   "metadata": {},
   "source": [
    "So we have $\\chi^{2}$ value 11.44 and degree of freedom (k) is 5. Lets see how can we use these values to test goddness of fit."
   ]
  },
  {
   "cell_type": "markdown",
   "metadata": {},
   "source": [
    "Lets look at the **Table of χ2 values vs p-values** when **k = 5** to get the **p-value**  \n",
    "<img src='Chi-Square-Table-Example.png'>  \n",
    "\n",
    "The p-value or probability of $\\chi^{2}$ value greater than 11.07 and less than 15.09 when k=5 is **0.05 (5%)** which means there is only 5% probability that the $\\chi^{2}$ is greater than 11.44.  \n",
    "\n",
    "**p-value** tells what is the probability of obtaining the observed data from population if null hypothesis is True. So in our example we see only 5% chance of obtaining observed values of customers from poulation if null hypothesis is true (owner's assumption is true). Means we should not accept the Null Hypothesis in this case as p-value is minimal (<= 5%). Hence the owner's assumption about the customer visit in the store is not true."
   ]
  },
  {
   "cell_type": "markdown",
   "metadata": {},
   "source": [
    "# Chi Square Test of Independence (Relationship Between Variables)"
   ]
  },
  {
   "cell_type": "markdown",
   "metadata": {},
   "source": [
    "The test of independence is to check if there any association or relationship exists between two variables.  A test of independence assesses whether observations consisting of measures on two variables, expressed in a contingency table, are independent of each other. \n",
    "\n",
    "The Chi-Square Test of Independence can only compare categorical variables. It cannot make comparisons between continuous variables or between categorical and continuous variables.  \n"
   ]
  },
  {
   "cell_type": "markdown",
   "metadata": {},
   "source": [
    "Lets understand the Chi -Squared test of independence from a popular Wikipedia example,  \n",
    "\n",
    "Suppose there is a city of 1,000,000 residents with four neighborhoods: A, B, C, and D.  A random sample of 650 residents of the city is taken and their occupation is recorded as \"white collar\", \"blue collar\", or \"no collar\". We need to test is there any relation/association between neighbourhood and occupation variable. in other words we need to test if these two variables are independent of each other."
   ]
  },
  {
   "cell_type": "markdown",
   "metadata": {},
   "source": [
    "**Step 1: State the null and alternative hypothesis.**  \n",
    "**$H_{0}$**: Each person's neighborhood of residence is independent of the person's occupational classification.Menas both variables are independent of each other.\n",
    "**$H_{1}$**: Alternative to null hypothesis which is variables are dependent on each other , in other words there is an  association between neighbourhood and occupation.  \n",
    "\n",
    "Task of the test is to prove whether we can accept or reject the null hypothesis."
   ]
  },
  {
   "cell_type": "markdown",
   "metadata": {},
   "source": [
    "**Step 2: Define Contingency Table of two variables.**\n",
    "Now we need to prepare a table of data from each variable.  There are 4 categories in variable 'neighbourhood' and 3 categories in variable 'occupation'.Lets capture the frequecies of each categories in each variable  in a contingency table.(Note: These numbers are assumption. We can calculate these numbers from dataframe.)  \n",
    "\n",
    "|Occupation/Neighbourhood|A|B|C|D|Total|\n",
    "|------|------|------|------|------|------|\n",
    "|White Collar|90|60|104|95|349|\n",
    "|Blue Collar|30|50|51|20|151|\n",
    "|No Collar|30|40|45|35|150|\n",
    "|**Total**|150|150|200|150|650|\n",
    "\n",
    "**Note** The frequencies in the table above are Observed Frequency\n"
   ]
  },
  {
   "cell_type": "markdown",
   "metadata": {},
   "source": [
    "**Step 3: Calculating Expected Counts.**\n",
    "\n",
    "<div style=\"font-size: 25px\" align=\"center\">          \n",
    "        $\\chi^{2}$ =  $\\sum \\frac{(O_{v} - E_{v})^2} {E_{i}}$ \n",
    "</div>\n",
    "Where $O_{v}$ is Observed Value and $E_{v}$ is expected value.  \n",
    "We already have $O_{v}$ calculated in the contingency table.We need to calculate Expected Frequencies $E_{v}$ in each cell.  \n",
    "\n",
    "Expected Count would help us to know how far observed counts are deviated from its expected values. Expected values can be calculated as  \n",
    "\n",
    "<div style=\"font-size: 25px\" align=\"center\">          \n",
    "$E_{v} =  \\frac {(i^{th} Row) * (J^{th} Column )} {table   total}$ \n",
    "</div>  \n",
    "\n",
    "Let me redefine the contingency table where each cell is updtaed with $O_{v}$($E_{v})$ \n",
    "\n",
    "|Occupation/Neighbourhood|A|B|C|D|Total|\n",
    "|------|------|------|------|------|------|\n",
    "|White Collar|90 (80.54)|60(80.54)|104(107.38)|95(80.54)|349|\n",
    "|Blue Collar|30(34.84)|50(34.84)|51(46.46)|20(34.84)|151|\n",
    "|No Collar|30(34.61)|40(34.61)|45(46.15)|35(34.61)|150|\n",
    "|**Total**|150|150|200|150|650|"
   ]
  },
  {
   "cell_type": "markdown",
   "metadata": {},
   "source": [
    "**Step 4: Calculating $\\chi^{2}$ value from the Observed and expected frequencies**  \n",
    "\n",
    "|Occupation/Neighbourhood|$\\chi^{2}_{i,j}$|$\\chi^{2}_{i,j}$|$\\chi^{2}_{i,j}$|$\\chi^{2}_{i,j}$|Total Value|\n",
    "|------|------|------|------|------|------|\n",
    "|White Collar|$\\frac{(90 - 80.54)^2}{80.54}=1.11$|$\\frac{(60 - 80.54)^2}{80.54}= 5.24$|$\\frac{(104 - 107.38)^2}{107.38}= 0.11$|$\\frac{(95 - 80.54)^2}{80.54}=2.6$|349|\n",
    "|Blue Collar|$\\frac{(30 - 34.84)^2}{34.84}=0.67$|$\\frac{(50 - 34.84)^2}{34.84}=6.6$|$\\frac{(51 - 46.46)^2}{46.46}=0.44$|$\\frac {(20 - 34.84)^2} {34.84}=6.32$|151|\n",
    "|No Collar|$\\frac {(30 - 34.61)^2} {34.61}=0.61$|$\\frac {(40 - 34.61)^2} {34.61}=0.84$|$\\frac{(45 - 46.15)^2}{46.15}=0.03$|$\\frac {(35 - 34.61)^2} {34.61}=0.0$|150|\n",
    "|**Total**|$150$|$150$|$200$|$150$|$650$|   \n",
    "\n",
    "Hence, \n",
    "$\\chi^{2}$ = $(1.11 + 5.24 + 0.11 + 2.6 + 0.67 + 6.6 + 0.44 + 6.32 + 0.61 + 0.84 + 0.03 + 0.0)$\n",
    "           = $24.57$"
   ]
  },
  {
   "cell_type": "markdown",
   "metadata": {},
   "source": [
    "**Step 5: Calculating Degree of Freedom** \n",
    "\n",
    "Degree of Freedom = (Number of Rows - 1) * (Number of Columns - 1)\n",
    "                  = $2$ * $3$\n",
    "                  = $6$  \n",
    "                  \n",
    "**Note**: You must be seen above why we are doing minus 1. Here in this exmple number of rows means numbe of categories in variable 'Occupation' and  number of columns means numbe of categories in variable 'Neighbourhood'.  "
   ]
  },
  {
   "cell_type": "markdown",
   "metadata": {},
   "source": [
    "**Step 5: Finding P-Value from the Chi Square Table**  \n",
    "\n",
    "Lets look at the Chi Square table for $\\chi^{2} = 24.57$ and Degree of Freedom(k) == 6. We will see in the table that p-value is 0.001 or less."
   ]
  },
  {
   "cell_type": "markdown",
   "metadata": {},
   "source": [
    "**Conclusion**: P-Value is 0.001 (.01%) which is less than significance level of 5%. Hence We will reject the Null Hypothesis. It means Null hypothesis is False. Which means There is no association between variable 'Occupation' and 'Neighbourhood'. Two variables are not related."
   ]
  },
  {
   "cell_type": "markdown",
   "metadata": {},
   "source": [
    "# Example in Python  \n",
    "\n",
    "Lets run a Chi Square test on a data set 'Car_Accident_Prediction' . The data set has many categorical features. We would test if two categorical features 'Vehicle Style' and 'Vechicle Size' has any association."
   ]
  },
  {
   "cell_type": "code",
   "execution_count": 22,
   "metadata": {},
   "outputs": [],
   "source": [
    "import pandas as pd\n",
    "import numpy as  np"
   ]
  },
  {
   "cell_type": "code",
   "execution_count": 23,
   "metadata": {
    "scrolled": true
   },
   "outputs": [
    {
     "data": {
      "text/html": [
       "<div>\n",
       "<style scoped>\n",
       "    .dataframe tbody tr th:only-of-type {\n",
       "        vertical-align: middle;\n",
       "    }\n",
       "\n",
       "    .dataframe tbody tr th {\n",
       "        vertical-align: top;\n",
       "    }\n",
       "\n",
       "    .dataframe thead th {\n",
       "        text-align: right;\n",
       "    }\n",
       "</style>\n",
       "<table border=\"1\" class=\"dataframe\">\n",
       "  <thead>\n",
       "    <tr style=\"text-align: right;\">\n",
       "      <th></th>\n",
       "      <th>Make</th>\n",
       "      <th>Model</th>\n",
       "      <th>Year</th>\n",
       "      <th>Engine Fuel Type</th>\n",
       "      <th>Engine HP</th>\n",
       "      <th>Engine Cylinders</th>\n",
       "      <th>Transmission Type</th>\n",
       "      <th>Driven_Wheels</th>\n",
       "      <th>Number of Doors</th>\n",
       "      <th>Market Category</th>\n",
       "      <th>Vehicle Size</th>\n",
       "      <th>Vehicle Style</th>\n",
       "      <th>highway MPG</th>\n",
       "      <th>city mpg</th>\n",
       "      <th>Popularity</th>\n",
       "      <th>MSRP</th>\n",
       "    </tr>\n",
       "  </thead>\n",
       "  <tbody>\n",
       "    <tr>\n",
       "      <td>0</td>\n",
       "      <td>BMW</td>\n",
       "      <td>1 Series M</td>\n",
       "      <td>2011</td>\n",
       "      <td>premium unleaded (required)</td>\n",
       "      <td>335.0</td>\n",
       "      <td>6.0</td>\n",
       "      <td>MANUAL</td>\n",
       "      <td>rear wheel drive</td>\n",
       "      <td>2.0</td>\n",
       "      <td>Factory Tuner,Luxury,High-Performance</td>\n",
       "      <td>Compact</td>\n",
       "      <td>Coupe</td>\n",
       "      <td>26</td>\n",
       "      <td>19</td>\n",
       "      <td>3916</td>\n",
       "      <td>46135</td>\n",
       "    </tr>\n",
       "    <tr>\n",
       "      <td>1</td>\n",
       "      <td>BMW</td>\n",
       "      <td>1 Series</td>\n",
       "      <td>2011</td>\n",
       "      <td>premium unleaded (required)</td>\n",
       "      <td>300.0</td>\n",
       "      <td>6.0</td>\n",
       "      <td>MANUAL</td>\n",
       "      <td>rear wheel drive</td>\n",
       "      <td>2.0</td>\n",
       "      <td>Luxury,Performance</td>\n",
       "      <td>Compact</td>\n",
       "      <td>Convertible</td>\n",
       "      <td>28</td>\n",
       "      <td>19</td>\n",
       "      <td>3916</td>\n",
       "      <td>40650</td>\n",
       "    </tr>\n",
       "    <tr>\n",
       "      <td>2</td>\n",
       "      <td>BMW</td>\n",
       "      <td>1 Series</td>\n",
       "      <td>2011</td>\n",
       "      <td>premium unleaded (required)</td>\n",
       "      <td>300.0</td>\n",
       "      <td>6.0</td>\n",
       "      <td>MANUAL</td>\n",
       "      <td>rear wheel drive</td>\n",
       "      <td>2.0</td>\n",
       "      <td>Luxury,High-Performance</td>\n",
       "      <td>Compact</td>\n",
       "      <td>Coupe</td>\n",
       "      <td>28</td>\n",
       "      <td>20</td>\n",
       "      <td>3916</td>\n",
       "      <td>36350</td>\n",
       "    </tr>\n",
       "    <tr>\n",
       "      <td>3</td>\n",
       "      <td>BMW</td>\n",
       "      <td>1 Series</td>\n",
       "      <td>2011</td>\n",
       "      <td>premium unleaded (required)</td>\n",
       "      <td>230.0</td>\n",
       "      <td>6.0</td>\n",
       "      <td>MANUAL</td>\n",
       "      <td>rear wheel drive</td>\n",
       "      <td>2.0</td>\n",
       "      <td>Luxury,Performance</td>\n",
       "      <td>Compact</td>\n",
       "      <td>Coupe</td>\n",
       "      <td>28</td>\n",
       "      <td>18</td>\n",
       "      <td>3916</td>\n",
       "      <td>29450</td>\n",
       "    </tr>\n",
       "    <tr>\n",
       "      <td>4</td>\n",
       "      <td>BMW</td>\n",
       "      <td>1 Series</td>\n",
       "      <td>2011</td>\n",
       "      <td>premium unleaded (required)</td>\n",
       "      <td>230.0</td>\n",
       "      <td>6.0</td>\n",
       "      <td>MANUAL</td>\n",
       "      <td>rear wheel drive</td>\n",
       "      <td>2.0</td>\n",
       "      <td>Luxury</td>\n",
       "      <td>Compact</td>\n",
       "      <td>Convertible</td>\n",
       "      <td>28</td>\n",
       "      <td>18</td>\n",
       "      <td>3916</td>\n",
       "      <td>34500</td>\n",
       "    </tr>\n",
       "  </tbody>\n",
       "</table>\n",
       "</div>"
      ],
      "text/plain": [
       "  Make       Model  Year             Engine Fuel Type  Engine HP  \\\n",
       "0  BMW  1 Series M  2011  premium unleaded (required)      335.0   \n",
       "1  BMW    1 Series  2011  premium unleaded (required)      300.0   \n",
       "2  BMW    1 Series  2011  premium unleaded (required)      300.0   \n",
       "3  BMW    1 Series  2011  premium unleaded (required)      230.0   \n",
       "4  BMW    1 Series  2011  premium unleaded (required)      230.0   \n",
       "\n",
       "   Engine Cylinders Transmission Type     Driven_Wheels  Number of Doors  \\\n",
       "0               6.0            MANUAL  rear wheel drive              2.0   \n",
       "1               6.0            MANUAL  rear wheel drive              2.0   \n",
       "2               6.0            MANUAL  rear wheel drive              2.0   \n",
       "3               6.0            MANUAL  rear wheel drive              2.0   \n",
       "4               6.0            MANUAL  rear wheel drive              2.0   \n",
       "\n",
       "                         Market Category Vehicle Size Vehicle Style  \\\n",
       "0  Factory Tuner,Luxury,High-Performance      Compact         Coupe   \n",
       "1                     Luxury,Performance      Compact   Convertible   \n",
       "2                Luxury,High-Performance      Compact         Coupe   \n",
       "3                     Luxury,Performance      Compact         Coupe   \n",
       "4                                 Luxury      Compact   Convertible   \n",
       "\n",
       "   highway MPG  city mpg  Popularity   MSRP  \n",
       "0           26        19        3916  46135  \n",
       "1           28        19        3916  40650  \n",
       "2           28        20        3916  36350  \n",
       "3           28        18        3916  29450  \n",
       "4           28        18        3916  34500  "
      ]
     },
     "execution_count": 23,
     "metadata": {},
     "output_type": "execute_result"
    }
   ],
   "source": [
    "data = pd.read_csv('Car_Accident_Prediction.csv')\n",
    "data.head()"
   ]
  },
  {
   "cell_type": "code",
   "execution_count": 24,
   "metadata": {
    "scrolled": true
   },
   "outputs": [
    {
     "data": {
      "text/plain": [
       "Vehicle Style    0\n",
       "Vehicle Size     0\n",
       "dtype: int64"
      ]
     },
     "execution_count": 24,
     "metadata": {},
     "output_type": "execute_result"
    }
   ],
   "source": [
    "# Check: Missing Values\n",
    "data[['Vehicle Style','Vehicle Size']].isnull().sum()"
   ]
  },
  {
   "cell_type": "markdown",
   "metadata": {},
   "source": [
    ">**Step 1 : Stating Hypothesis**  \n",
    "    $H_{0}$ : There is association between Vehicle Size and Vehicle Style.  \n",
    "    $H_{1}$ : There is no association between vehicle Size and vehicle Style."
   ]
  },
  {
   "cell_type": "markdown",
   "metadata": {},
   "source": [
    "> **Step 2: Define Contingency Table**  \n",
    "We need to define a contingency table with observed frequencies of each categories in each variable. we will use **crosstab** function of pandas to prepare the table."
   ]
  },
  {
   "cell_type": "code",
   "execution_count": 56,
   "metadata": {
    "scrolled": true
   },
   "outputs": [
    {
     "data": {
      "text/html": [
       "<div>\n",
       "<style scoped>\n",
       "    .dataframe tbody tr th:only-of-type {\n",
       "        vertical-align: middle;\n",
       "    }\n",
       "\n",
       "    .dataframe tbody tr th {\n",
       "        vertical-align: top;\n",
       "    }\n",
       "\n",
       "    .dataframe thead th {\n",
       "        text-align: right;\n",
       "    }\n",
       "</style>\n",
       "<table border=\"1\" class=\"dataframe\">\n",
       "  <thead>\n",
       "    <tr style=\"text-align: right;\">\n",
       "      <th>Vehicle Size</th>\n",
       "      <th>Compact</th>\n",
       "      <th>Large</th>\n",
       "      <th>Midsize</th>\n",
       "      <th>All</th>\n",
       "    </tr>\n",
       "    <tr>\n",
       "      <th>Vehicle Style</th>\n",
       "      <th></th>\n",
       "      <th></th>\n",
       "      <th></th>\n",
       "      <th></th>\n",
       "    </tr>\n",
       "  </thead>\n",
       "  <tbody>\n",
       "    <tr>\n",
       "      <td>2dr Hatchback</td>\n",
       "      <td>497</td>\n",
       "      <td>0</td>\n",
       "      <td>9</td>\n",
       "      <td>506</td>\n",
       "    </tr>\n",
       "    <tr>\n",
       "      <td>2dr SUV</td>\n",
       "      <td>89</td>\n",
       "      <td>0</td>\n",
       "      <td>49</td>\n",
       "      <td>138</td>\n",
       "    </tr>\n",
       "    <tr>\n",
       "      <td>4dr Hatchback</td>\n",
       "      <td>623</td>\n",
       "      <td>10</td>\n",
       "      <td>69</td>\n",
       "      <td>702</td>\n",
       "    </tr>\n",
       "    <tr>\n",
       "      <td>4dr SUV</td>\n",
       "      <td>534</td>\n",
       "      <td>501</td>\n",
       "      <td>1453</td>\n",
       "      <td>2488</td>\n",
       "    </tr>\n",
       "    <tr>\n",
       "      <td>Cargo Minivan</td>\n",
       "      <td>41</td>\n",
       "      <td>15</td>\n",
       "      <td>15</td>\n",
       "      <td>71</td>\n",
       "    </tr>\n",
       "    <tr>\n",
       "      <td>Cargo Van</td>\n",
       "      <td>10</td>\n",
       "      <td>34</td>\n",
       "      <td>51</td>\n",
       "      <td>95</td>\n",
       "    </tr>\n",
       "    <tr>\n",
       "      <td>Convertible</td>\n",
       "      <td>587</td>\n",
       "      <td>14</td>\n",
       "      <td>192</td>\n",
       "      <td>793</td>\n",
       "    </tr>\n",
       "    <tr>\n",
       "      <td>Convertible SUV</td>\n",
       "      <td>26</td>\n",
       "      <td>0</td>\n",
       "      <td>3</td>\n",
       "      <td>29</td>\n",
       "    </tr>\n",
       "    <tr>\n",
       "      <td>Coupe</td>\n",
       "      <td>679</td>\n",
       "      <td>112</td>\n",
       "      <td>420</td>\n",
       "      <td>1211</td>\n",
       "    </tr>\n",
       "    <tr>\n",
       "      <td>Crew Cab Pickup</td>\n",
       "      <td>258</td>\n",
       "      <td>423</td>\n",
       "      <td>0</td>\n",
       "      <td>681</td>\n",
       "    </tr>\n",
       "    <tr>\n",
       "      <td>Extended Cab Pickup</td>\n",
       "      <td>292</td>\n",
       "      <td>331</td>\n",
       "      <td>0</td>\n",
       "      <td>623</td>\n",
       "    </tr>\n",
       "    <tr>\n",
       "      <td>Passenger Minivan</td>\n",
       "      <td>99</td>\n",
       "      <td>116</td>\n",
       "      <td>202</td>\n",
       "      <td>417</td>\n",
       "    </tr>\n",
       "    <tr>\n",
       "      <td>Passenger Van</td>\n",
       "      <td>7</td>\n",
       "      <td>37</td>\n",
       "      <td>84</td>\n",
       "      <td>128</td>\n",
       "    </tr>\n",
       "    <tr>\n",
       "      <td>Regular Cab Pickup</td>\n",
       "      <td>125</td>\n",
       "      <td>267</td>\n",
       "      <td>0</td>\n",
       "      <td>392</td>\n",
       "    </tr>\n",
       "    <tr>\n",
       "      <td>Sedan</td>\n",
       "      <td>625</td>\n",
       "      <td>813</td>\n",
       "      <td>1610</td>\n",
       "      <td>3048</td>\n",
       "    </tr>\n",
       "    <tr>\n",
       "      <td>Wagon</td>\n",
       "      <td>272</td>\n",
       "      <td>104</td>\n",
       "      <td>216</td>\n",
       "      <td>592</td>\n",
       "    </tr>\n",
       "    <tr>\n",
       "      <td>All</td>\n",
       "      <td>4764</td>\n",
       "      <td>2777</td>\n",
       "      <td>4373</td>\n",
       "      <td>11914</td>\n",
       "    </tr>\n",
       "  </tbody>\n",
       "</table>\n",
       "</div>"
      ],
      "text/plain": [
       "Vehicle Size         Compact  Large  Midsize    All\n",
       "Vehicle Style                                      \n",
       "2dr Hatchback            497      0        9    506\n",
       "2dr SUV                   89      0       49    138\n",
       "4dr Hatchback            623     10       69    702\n",
       "4dr SUV                  534    501     1453   2488\n",
       "Cargo Minivan             41     15       15     71\n",
       "Cargo Van                 10     34       51     95\n",
       "Convertible              587     14      192    793\n",
       "Convertible SUV           26      0        3     29\n",
       "Coupe                    679    112      420   1211\n",
       "Crew Cab Pickup          258    423        0    681\n",
       "Extended Cab Pickup      292    331        0    623\n",
       "Passenger Minivan         99    116      202    417\n",
       "Passenger Van              7     37       84    128\n",
       "Regular Cab Pickup       125    267        0    392\n",
       "Sedan                    625    813     1610   3048\n",
       "Wagon                    272    104      216    592\n",
       "All                     4764   2777     4373  11914"
      ]
     },
     "execution_count": 56,
     "metadata": {},
     "output_type": "execute_result"
    }
   ],
   "source": [
    "contingency_table = pd.crosstab(\n",
    "                        data['Vehicle Style'],\n",
    "                        data['Vehicle Size'],\n",
    "                        margins=True # will show 'Total' frequencies\n",
    "                    )\n",
    "contingency_table"
   ]
  },
  {
   "cell_type": "markdown",
   "metadata": {},
   "source": [
    ">**Step 3: Calculating Expected Values**  \n",
    "We need to calculate the expected values . We have seen the formula to calculate , \n",
    "<div style=\"font-size: 25px\" align=\"center\">          \n",
    "$E_{v} =  \\frac {(i^{th} Row) * (J^{th} Column )} {table   total}$ \n",
    "</div> "
   ]
  },
  {
   "cell_type": "code",
   "execution_count": 57,
   "metadata": {},
   "outputs": [],
   "source": [
    "# First get number of rows and number of columns\n",
    "# minus 1 : because there is extra row 'All' and extra column 'All' which is not our interest for Expected Counts\n",
    "count_of_rows = contingency_table.shape[0] - 1\n",
    "count_of_columns = contingency_table.shape[1] - 1\n",
    "\n",
    "# Lets save row total and column total in seperate variables\n",
    "row_total = contingency_table.All\n",
    "col_total =contingency_table.loc['All',:]\n",
    "table_total = data.shape[0]\n",
    "\n",
    "# Lets run for loop to iterate over ith row and jth column and calculate Ev.\n",
    "# Rounding Off the Expected values \n",
    "expected_values = [ round(((row_total[i] * col_total[j] )/table_total),2) for i in range(count_of_rows) for j in range(count_of_columns)]\n",
    "    "
   ]
  },
  {
   "cell_type": "markdown",
   "metadata": {},
   "source": [
    ">**Step 4: Calculating Chi Square value**  \n",
    "We have Observed values and Expected values in hand. We will calculate the Chi Square value using formula,  \n",
    "\n",
    "<div style=\"font-size: 25px\" align=\"center\">          \n",
    "        $\\chi^{2}$ =  $\\sum \\frac{(O_{v} - E_{v})^2} {E_{i}}$ \n",
    "</div>"
   ]
  },
  {
   "cell_type": "code",
   "execution_count": 58,
   "metadata": {},
   "outputs": [
    {
     "name": "stdout",
     "output_type": "stream",
     "text": [
      "Chi Square value is  4991.67\n"
     ]
    }
   ],
   "source": [
    "# Expected values are in a list. So lets first store observed values in a list too.\n",
    "observed_values = np.array(contingency_table.iloc[:-1,:-1]).ravel()\n",
    "\n",
    "# Lets calculate Chi Square value\n",
    "chi_square_value = ((observed_values - expected_values)**2 / expected_values).sum()\n",
    "chi_square_value = round(chi_square_value, 2)\n",
    "print('Chi Square value is ', chi_square_value)"
   ]
  },
  {
   "cell_type": "markdown",
   "metadata": {},
   "source": [
    ">**Step 5:Calculate Degree of Freedom**"
   ]
  },
  {
   "cell_type": "code",
   "execution_count": 59,
   "metadata": {},
   "outputs": [
    {
     "name": "stdout",
     "output_type": "stream",
     "text": [
      "Degree of Freedom  30\n"
     ]
    }
   ],
   "source": [
    "degree_of_freedom = (count_of_rows - 1) * (count_of_columns -1)\n",
    "print('Degree of Freedom ', degree_of_freedom)"
   ]
  },
  {
   "cell_type": "markdown",
   "metadata": {},
   "source": [
    ">**Step 6: Finding P-Value**  \n",
    "Now we will look into chi square table and check p-value for $chi^{2}==4991$ and k = 30.  \n",
    "\n",
    "Unfortunately the chi square table has values only for 10 degree of freedom. and if we notice we will see that p-value is near 0 for k=10 and largest chi square value (29.59). So we can guess for our chi square value (4991) and degree of freedom (30) p-value would be very near to 0. We can consider almost 0%."
   ]
  },
  {
   "cell_type": "markdown",
   "metadata": {},
   "source": [
    ">**Step 7: Conclusion**\n",
    "So p-value is 0% whcih is less than significance level of 5%. Hence we would reject Null hypothesis. Hence final conclusion would be the categorical variable 'Vehicle Size' and 'Vehicle Style' are not independent to each othere means there are no corelation between those variables."
   ]
  }
 ],
 "metadata": {
  "kernelspec": {
   "display_name": "Python 3",
   "language": "python",
   "name": "python3"
  },
  "language_info": {
   "codemirror_mode": {
    "name": "ipython",
    "version": 3
   },
   "file_extension": ".py",
   "mimetype": "text/x-python",
   "name": "python",
   "nbconvert_exporter": "python",
   "pygments_lexer": "ipython3",
   "version": "3.7.4"
  }
 },
 "nbformat": 4,
 "nbformat_minor": 2
}
